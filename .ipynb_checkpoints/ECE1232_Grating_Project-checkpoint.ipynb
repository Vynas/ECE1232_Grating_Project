{
 "cells": [
  {
   "cell_type": "markdown",
   "metadata": {},
   "source": [
    "# ECE1232 Grating Project - Mark Jordan"
   ]
  },
  {
   "cell_type": "code",
   "execution_count": 1,
   "metadata": {
    "collapsed": true
   },
   "outputs": [],
   "source": [
    "# This code was written by Mark Jordan\n",
    "# last modified 3/1/2018"
   ]
  },
  {
   "cell_type": "code",
   "execution_count": 2,
   "metadata": {
    "collapsed": false
   },
   "outputs": [],
   "source": [
    "%matplotlib inline\n",
    "import matplotlib.pyplot as plt\n",
    "import numpy as np"
   ]
  },
  {
   "cell_type": "markdown",
   "metadata": {},
   "source": [
    "## Problem 1"
   ]
  },
  {
   "cell_type": "code",
   "execution_count": 103,
   "metadata": {
    "collapsed": true
   },
   "outputs": [],
   "source": [
    "n1 = 1.5\n",
    "delta_n1 = .1*10**(-4)\n",
    "delta_n2 = 2*10**(-4)\n",
    "delta_n3 = 5*10**(-4)\n",
    "delta_n4 = 10*10**(-4)"
   ]
  },
  {
   "cell_type": "code",
   "execution_count": 104,
   "metadata": {
    "collapsed": true
   },
   "outputs": [],
   "source": [
    "def find_n2(n1,delta_n):\n",
    "    n2 = n1+delta_n\n",
    "    return n2"
   ]
  },
  {
   "cell_type": "code",
   "execution_count": 105,
   "metadata": {
    "collapsed": true
   },
   "outputs": [],
   "source": [
    "n2_1 = find_n2(n1,delta_n1)\n",
    "n2_2 = find_n2(n1,delta_n2)\n",
    "n2_3 = find_n2(n1,delta_n3)\n",
    "n2_4 = find_n2(n1,delta_n4)\n",
    "theta = 0"
   ]
  },
  {
   "cell_type": "code",
   "execution_count": 106,
   "metadata": {
    "collapsed": true
   },
   "outputs": [],
   "source": [
    "def r_TE(n1,n3,thetai, thetat):\n",
    "    r_te = (n1*np.cos(thetai)-n3*np.cos(thetat))/(n1*np.cos(thetai)+n3*np.cos(thetat))\n",
    "    return r_te"
   ]
  },
  {
   "cell_type": "code",
   "execution_count": 107,
   "metadata": {
    "collapsed": true
   },
   "outputs": [],
   "source": [
    "def t_TE(n1,n3,thetai, thetat):\n",
    "    t_te = (2*n1*np.cos(thetai))/(n1*np.cos(thetai)+n3*np.cos(thetat))\n",
    "    return t_te"
   ]
  },
  {
   "cell_type": "code",
   "execution_count": 108,
   "metadata": {
    "collapsed": true
   },
   "outputs": [],
   "source": [
    "def finding_R(r):\n",
    "    R = np.absolute(r)**2\n",
    "    return R"
   ]
  },
  {
   "cell_type": "code",
   "execution_count": 109,
   "metadata": {
    "collapsed": true
   },
   "outputs": [],
   "source": [
    "r_12_1 = r_TE(n1,n2_1,theta,theta)\n",
    "r_21_1 = r_TE(n2_1,n1,theta,theta)\n",
    "\n",
    "r_12_2 = r_TE(n1,n2_2,theta,theta)\n",
    "r_21_2 = r_TE(n2_2,n1,theta,theta)\n",
    "\n",
    "r_12_3 = r_TE(n1,n2_3,theta,theta)\n",
    "r_21_3 = r_TE(n2_3,n1,theta,theta)\n",
    "\n",
    "r_12_4 = r_TE(n1,n2_4,theta,theta)\n",
    "r_21_4 = r_TE(n2_4,n1,theta,theta)"
   ]
  },
  {
   "cell_type": "code",
   "execution_count": 110,
   "metadata": {
    "collapsed": false
   },
   "outputs": [
    {
     "name": "stdout",
     "output_type": "stream",
     "text": [
      "[[ -3.33332222e-06]\n",
      " [ -6.66622225e-05]\n",
      " [ -1.66638894e-04]\n",
      " [ -3.33222259e-04]]\n"
     ]
    }
   ],
   "source": [
    "r_12_array = np.array([[r_12_1],[r_12_2],[r_12_3],[r_12_4]])\n",
    "print(r_12_array)"
   ]
  },
  {
   "cell_type": "code",
   "execution_count": 111,
   "metadata": {
    "collapsed": false
   },
   "outputs": [
    {
     "name": "stdout",
     "output_type": "stream",
     "text": [
      "[[  3.33332222e-06]\n",
      " [  6.66622225e-05]\n",
      " [  1.66638894e-04]\n",
      " [  3.33222259e-04]]\n"
     ]
    }
   ],
   "source": [
    "r_21_array = np.array([[r_21_1],[r_21_2],[r_21_3],[r_21_4]])\n",
    "print(r_21_array)"
   ]
  },
  {
   "cell_type": "code",
   "execution_count": 112,
   "metadata": {
    "collapsed": true
   },
   "outputs": [],
   "source": [
    "t_12_1 = t_TE(n1,n2_1,theta,theta)\n",
    "t_21_1 = t_TE(n2_1,n1,theta,theta)\n",
    "\n",
    "t_12_2 = t_TE(n1,n2_2,theta,theta)\n",
    "t_21_2 = t_TE(n2_2,n1,theta,theta)\n",
    "\n",
    "t_12_3 = t_TE(n1,n2_3,theta,theta)\n",
    "t_21_3 = t_TE(n2_3,n1,theta,theta)\n",
    "\n",
    "t_12_4 = t_TE(n1,n2_4,theta,theta)\n",
    "t_21_4 = t_TE(n2_4,n1,theta,theta)"
   ]
  },
  {
   "cell_type": "code",
   "execution_count": 113,
   "metadata": {
    "collapsed": false
   },
   "outputs": [
    {
     "name": "stdout",
     "output_type": "stream",
     "text": [
      "[[ 0.99999667]\n",
      " [ 0.99993334]\n",
      " [ 0.99983336]\n",
      " [ 0.99966678]]\n"
     ]
    }
   ],
   "source": [
    "t_12_array = np.array([[t_12_1],[t_12_2],[t_12_3],[t_12_4]])\n",
    "print(t_12_array)"
   ]
  },
  {
   "cell_type": "code",
   "execution_count": 114,
   "metadata": {
    "collapsed": false
   },
   "outputs": [
    {
     "name": "stdout",
     "output_type": "stream",
     "text": [
      "[[ 1.00000333]\n",
      " [ 1.00006666]\n",
      " [ 1.00016664]\n",
      " [ 1.00033322]]\n"
     ]
    }
   ],
   "source": [
    "t_21_array = np.array([[t_21_1],[t_21_2],[t_21_3],[t_21_4]])\n",
    "print(t_21_array)"
   ]
  },
  {
   "cell_type": "code",
   "execution_count": 115,
   "metadata": {
    "collapsed": true
   },
   "outputs": [],
   "source": [
    "def Matrix12(r,t):\n",
    "    M12 = (1/t)*np.array([[1,r],[r,1]])\n",
    "    return M12\n",
    "def Matrix2_free(phi_z,size_of_array):\n",
    "    j = size_of_array\n",
    "    i = 0\n",
    "    M2_free = np.zeros(j, dtype=object)\n",
    "    #print(\"M2_free\",M2_free)\n",
    "    while i < j:\n",
    "        M2_free[i] = np.array([[np.exp(phi_z[i]*1j),0],[0,np.exp(phi_z[i]*(-1j))]])\n",
    "        i+=1\n",
    "    #M2_free = np.array([[np.exp(phi_z*1j),0],[0,np.exp(phi_z*(-1j))]])\n",
    "    return M2_free\n",
    "def phi_z(n,d,theta,lambda_wavelength):\n",
    "    phi = 2*np.pi*n*d*np.cos(theta)/lambda_wavelength\n",
    "    return phi"
   ]
  },
  {
   "cell_type": "code",
   "execution_count": 246,
   "metadata": {
    "collapsed": true
   },
   "outputs": [],
   "source": [
    "period_length = 1*10**(-6)\n",
    "d = period_length/2\n",
    "size_of_array = 1000\n",
    "wavelength = np.linspace(1350*10**-9,1750*10**-9,size_of_array)"
   ]
  },
  {
   "cell_type": "code",
   "execution_count": 247,
   "metadata": {
    "collapsed": false
   },
   "outputs": [
    {
     "name": "stdout",
     "output_type": "stream",
     "text": [
      "3.49068177505\n"
     ]
    }
   ],
   "source": [
    "phi_z_1 = phi_z(n1,d,theta,wavelength)\n",
    "phi_z_2_1 = phi_z(n2_1,d,theta,wavelength)\n",
    "phi_z_2_2 = phi_z(n2_2,d,theta,wavelength)\n",
    "phi_z_2_3 = phi_z(n2_3,d,theta,wavelength)\n",
    "phi_z_2_4 = phi_z(n2_4,d,theta,wavelength)\n",
    "phi_z_2_array = np.zeros(4, dtype=object)\n",
    "phi_z_2_array[0] = phi_z_2_1\n",
    "phi_z_2_array[1] = phi_z_2_2\n",
    "phi_z_2_array[2] = phi_z_2_3\n",
    "phi_z_2_array[3] = phi_z_2_4\n",
    "print(phi_z_2_array[0][0])"
   ]
  },
  {
   "cell_type": "markdown",
   "metadata": {},
   "source": [
    "### start repeating below this"
   ]
  },
  {
   "cell_type": "code",
   "execution_count": 248,
   "metadata": {
    "collapsed": false
   },
   "outputs": [
    {
     "name": "stdout",
     "output_type": "stream",
     "text": [
      "[[ -9.39687794e-01 -3.42043151e-01j   3.13228220e-06 -1.14014004e-06j]\n",
      " [  3.13228220e-06 +1.14014004e-06j  -9.39687794e-01 +3.42043151e-01j]]\n"
     ]
    }
   ],
   "source": [
    "M12 = Matrix12(r_12_array[0],t_12_array[0])\n",
    "M2 = Matrix2_free(phi_z_2_array[0],size_of_array)\n",
    "M21 = Matrix12(r_21_array[0],t_21_array[0])\n",
    "M1 = Matrix2_free(phi_z_1,size_of_array)\n",
    "#print(M12)\n",
    "#print(M2[0])\n",
    "A = np.dot(M12,M2[0])\n",
    "#print(np.dot(M12,M2[0]))\n",
    "print(A)"
   ]
  },
  {
   "cell_type": "code",
   "execution_count": 249,
   "metadata": {
    "collapsed": false
   },
   "outputs": [
    {
     "name": "stdout",
     "output_type": "stream",
     "text": [
      "[[ -9.39687794e-01 -3.42043151e-01j   3.13228220e-06 -1.14014004e-06j]\n",
      " [  3.13228220e-06 +1.14014004e-06j  -9.39687794e-01 +3.42043151e-01j]]\n"
     ]
    }
   ],
   "source": [
    "j = size_of_array\n",
    "i = 0\n",
    "M122 = np.zeros(j, dtype=object)\n",
    "while i < j:\n",
    "    M122[i] = np.dot(M12,M2[i])\n",
    "    i+=1\n",
    "#print(M122)\n",
    "print(M122[0])"
   ]
  },
  {
   "cell_type": "code",
   "execution_count": 250,
   "metadata": {
    "collapsed": false
   },
   "outputs": [],
   "source": [
    "j = size_of_array\n",
    "i = 0\n",
    "M12221 = np.zeros(j, dtype=object)\n",
    "while i < j:\n",
    "    M12221[i] = np.dot(M122[i],M21)\n",
    "    i+=1"
   ]
  },
  {
   "cell_type": "code",
   "execution_count": 251,
   "metadata": {
    "collapsed": true
   },
   "outputs": [],
   "source": [
    "j = size_of_array\n",
    "i = 0\n",
    "M122211 = np.zeros(j, dtype=object)\n",
    "while i < j:\n",
    "    M122211[i] = np.dot(M12221[i],M1[i])\n",
    "    i+=1"
   ]
  },
  {
   "cell_type": "code",
   "execution_count": 252,
   "metadata": {
    "collapsed": false
   },
   "outputs": [
    {
     "name": "stdout",
     "output_type": "stream",
     "text": [
      "[[  7.66029485e-01 +6.42805436e-01j   7.79899118e-07 +2.14275521e-06j]\n",
      " [  7.79899118e-07 -2.14275521e-06j   7.66029485e-01 -6.42805436e-01j]]\n"
     ]
    }
   ],
   "source": [
    "M_period = M122211\n",
    "M_temp = M_period\n",
    "number_of_periods = 10000\n",
    "i = 0\n",
    "j = number_of_periods-1\n",
    "while i < j:\n",
    "    M__temp = np.dot(M_temp,M_period)\n",
    "    i+=1\n",
    "print(M_temp[0])"
   ]
  },
  {
   "cell_type": "code",
   "execution_count": 253,
   "metadata": {
    "collapsed": true
   },
   "outputs": [],
   "source": [
    "j = size_of_array\n",
    "i = 0\n",
    "r_total1 = np.zeros(j, dtype=object)\n",
    "R_total1 = np.zeros(j, dtype=object)\n",
    "while i < j:\n",
    "    r_total1[i] = M_temp[i][1][0]/M_temp[i][0][0]\n",
    "    R_total1[i] = (np.absolute(r_total1[i]))**2\n",
    "    i+=1"
   ]
  },
  {
   "cell_type": "code",
   "execution_count": 254,
   "metadata": {
    "collapsed": false
   },
   "outputs": [
    {
     "data": {
      "text/plain": [
       "<matplotlib.text.Text at 0x7a8aa4dc88>"
      ]
     },
     "execution_count": 254,
     "metadata": {},
     "output_type": "execute_result"
    },
    {
     "data": {
      "image/png": "[encoded data removed]",
      "text/plain": [
       "<matplotlib.figure.Figure at 0x7a89a11fd0>"
      ]
     },
     "metadata": {},
     "output_type": "display_data"
    }
   ],
   "source": [
    "plt.plot(wavelength, R_total1)\n",
    "plt.xlabel(\"wavelength (m)\")\n",
    "plt.ylabel(\"R\")\n",
    "plt.title(\"Delta n = .1*10^-4\")"
   ]
  },
  {
   "cell_type": "code",
   "execution_count": 255,
   "metadata": {
    "collapsed": false
   },
   "outputs": [
    {
     "name": "stdout",
     "output_type": "stream",
     "text": [
      "[[ -9.39595971e-01 -3.42480290e-01j   6.26355557e-05 -2.28304973e-05j]\n",
      " [  6.26355557e-05 +2.28304973e-05j  -9.39595971e-01 +3.42480290e-01j]]\n"
     ]
    }
   ],
   "source": [
    "M12 = Matrix12(r_12_array[1],t_12_array[1])\n",
    "M2 = Matrix2_free(phi_z_2_array[1],size_of_array)\n",
    "M21 = Matrix12(r_21_array[1],t_21_array[1])\n",
    "M1 = Matrix2_free(phi_z_1,size_of_array)\n",
    "#print(M12)\n",
    "#print(M2[0])\n",
    "A = np.dot(M12,M2[0])\n",
    "#print(np.dot(M12,M2[0]))\n",
    "print(A)"
   ]
  },
  {
   "cell_type": "code",
   "execution_count": 256,
   "metadata": {
    "collapsed": false
   },
   "outputs": [
    {
     "name": "stdout",
     "output_type": "stream",
     "text": [
      "[[ -9.39595971e-01 -3.42480290e-01j   6.26355557e-05 -2.28304973e-05j]\n",
      " [  6.26355557e-05 +2.28304973e-05j  -9.39595971e-01 +3.42480290e-01j]]\n"
     ]
    }
   ],
   "source": [
    "j = size_of_array\n",
    "i = 0\n",
    "M122 = np.zeros(j, dtype=object)\n",
    "while i < j:\n",
    "    M122[i] = np.dot(M12,M2[i])\n",
    "    i+=1\n",
    "#print(M122)\n",
    "print(M122[0])"
   ]
  },
  {
   "cell_type": "code",
   "execution_count": 257,
   "metadata": {
    "collapsed": true
   },
   "outputs": [],
   "source": [
    "j = size_of_array\n",
    "i = 0\n",
    "M12221 = np.zeros(j, dtype=object)\n",
    "while i < j:\n",
    "    M12221[i] = np.dot(M122[i],M21)\n",
    "    i+=1"
   ]
  },
  {
   "cell_type": "code",
   "execution_count": 258,
   "metadata": {
    "collapsed": true
   },
   "outputs": [],
   "source": [
    "j = size_of_array\n",
    "i = 0\n",
    "M122211 = np.zeros(j, dtype=object)\n",
    "while i < j:\n",
    "    M122211[i] = np.dot(M12221[i],M1[i])\n",
    "    i+=1"
   ]
  },
  {
   "cell_type": "code",
   "execution_count": 259,
   "metadata": {
    "collapsed": false
   },
   "outputs": [
    {
     "name": "stdout",
     "output_type": "stream",
     "text": [
      "[[  7.65745192e-01 +6.43144076e-01j   1.56159389e-05 +4.29044395e-05j]\n",
      " [  1.56159389e-05 -4.29044395e-05j   7.65745192e-01 -6.43144076e-01j]]\n"
     ]
    }
   ],
   "source": [
    "M_period = M122211\n",
    "M_temp = M_period\n",
    "i = 0\n",
    "j = number_of_periods-1\n",
    "while i < j:\n",
    "    M__temp = np.dot(M_temp,M_period)\n",
    "    i+=1\n",
    "print(M_temp[0])"
   ]
  },
  {
   "cell_type": "code",
   "execution_count": 260,
   "metadata": {
    "collapsed": true
   },
   "outputs": [],
   "source": [
    "j = size_of_array\n",
    "i = 0\n",
    "r_total2 = np.zeros(j, dtype=object)\n",
    "R_total2 = np.zeros(j, dtype=object)\n",
    "while i < j:\n",
    "    r_total2[i] = M_temp[i][1][0]/M_temp[i][0][0]\n",
    "    R_total2[i] = (np.absolute(r_total2[i]))**2\n",
    "    i+=1"
   ]
  },
  {
   "cell_type": "code",
   "execution_count": 261,
   "metadata": {
    "collapsed": false
   },
   "outputs": [
    {
     "data": {
      "text/plain": [
       "<matplotlib.text.Text at 0x7a89925240>"
      ]
     },
     "execution_count": 261,
     "metadata": {},
     "output_type": "execute_result"
    },
    {
     "data": {
      "image/png": "[encoded data removed]",
      "text/plain": [
       "<matplotlib.figure.Figure at 0x7a8aabdcc0>"
      ]
     },
     "metadata": {},
     "output_type": "display_data"
    }
   ],
   "source": [
    "plt.plot(wavelength, R_total2)\n",
    "plt.xlabel(\"wavelength (m)\")\n",
    "plt.ylabel(\"R\")\n",
    "plt.title(\"Delta n = 2*10^-4\")"
   ]
  },
  {
   "cell_type": "code",
   "execution_count": 262,
   "metadata": {
    "collapsed": false
   },
   "outputs": [
    {
     "name": "stdout",
     "output_type": "stream",
     "text": [
      "[[ -9.39450575e-01 -3.43170479e-01j   1.56549004e-04 -5.71855489e-05j]\n",
      " [  1.56549004e-04 +5.71855489e-05j  -9.39450575e-01 +3.43170479e-01j]]\n",
      "[[ -9.39450575e-01 -3.43170479e-01j   1.56549004e-04 -5.71855489e-05j]\n",
      " [  1.56549004e-04 +5.71855489e-05j  -9.39450575e-01 +3.43170479e-01j]]\n",
      "[[  7.65296001e-01 +6.43678525e-01j   3.91107019e-05 +1.07455770e-04j]\n",
      " [  3.91107019e-05 -1.07455770e-04j   7.65296001e-01 -6.43678525e-01j]]\n"
     ]
    },
    {
     "data": {
      "text/plain": [
       "<matplotlib.text.Text at 0x7a8ab4f940>"
      ]
     },
     "execution_count": 262,
     "metadata": {},
     "output_type": "execute_result"
    },
    {
     "data": {
      "image/png": "[encoded data removed]",
      "text/plain": [
       "<matplotlib.figure.Figure at 0x7a89911c50>"
      ]
     },
     "metadata": {},
     "output_type": "display_data"
    }
   ],
   "source": [
    "M12 = Matrix12(r_12_array[2],t_12_array[2])\n",
    "M2 = Matrix2_free(phi_z_2_array[2],size_of_array)\n",
    "M21 = Matrix12(r_21_array[2],t_21_array[2])\n",
    "M1 = Matrix2_free(phi_z_1,size_of_array)\n",
    "#print(M12)\n",
    "#print(M2[0])\n",
    "A = np.dot(M12,M2[0])\n",
    "#print(np.dot(M12,M2[0]))\n",
    "print(A)\n",
    "\n",
    "j = size_of_array\n",
    "i = 0\n",
    "M122 = np.zeros(j, dtype=object)\n",
    "while i < j:\n",
    "    M122[i] = np.dot(M12,M2[i])\n",
    "    i+=1\n",
    "#print(M122)\n",
    "print(M122[0])\n",
    "\n",
    "j = size_of_array\n",
    "i = 0\n",
    "M12221 = np.zeros(j, dtype=object)\n",
    "while i < j:\n",
    "    M12221[i] = np.dot(M122[i],M21)\n",
    "    i+=1\n",
    "    \n",
    "j = size_of_array\n",
    "i = 0\n",
    "M122211 = np.zeros(j, dtype=object)\n",
    "while i < j:\n",
    "    M122211[i] = np.dot(M12221[i],M1[i])\n",
    "    i+=1\n",
    "    \n",
    "M_period = M122211\n",
    "M_temp = M_period\n",
    "i = 0\n",
    "j = number_of_periods-1\n",
    "while i < j:\n",
    "    M__temp = np.dot(M_temp,M_period)\n",
    "    i+=1\n",
    "print(M_temp[0])\n",
    "\n",
    "j = size_of_array\n",
    "i = 0\n",
    "r_total3 = np.zeros(j, dtype=object)\n",
    "R_total3 = np.zeros(j, dtype=object)\n",
    "while i < j:\n",
    "    r_total3[i] = M_temp[i][1][0]/M_temp[i][0][0]\n",
    "    R_total3[i] = (np.absolute(r_total3[i]))**2\n",
    "    i+=1\n",
    "    \n",
    "plt.plot(wavelength, R_total3)\n",
    "plt.xlabel(\"wavelength (m)\")\n",
    "plt.ylabel(\"R\")\n",
    "plt.title(\"Delta n = 5*10^-4\")"
   ]
  },
  {
   "cell_type": "code",
   "execution_count": 263,
   "metadata": {
    "collapsed": false
   },
   "outputs": [
    {
     "name": "stdout",
     "output_type": "stream",
     "text": [
      "[[ -9.39207125e-01 -3.44320715e-01j   3.12964720e-04 -1.14735326e-04j]\n",
      " [  3.12964720e-04 +1.14735326e-04j  -9.39207125e-01 +3.44320715e-01j]]\n",
      "[[ -9.39207125e-01 -3.44320715e-01j   3.12964720e-04 -1.14735326e-04j]\n",
      " [  3.12964720e-04 +1.14735326e-04j  -9.39207125e-01 +3.44320715e-01j]]\n",
      "[[  7.64546509e-01 +6.44568606e-01j   7.84574418e-05 +2.15560050e-04j]\n",
      " [  7.84574418e-05 -2.15560050e-04j   7.64546509e-01 -6.44568606e-01j]]\n"
     ]
    },
    {
     "data": {
      "text/plain": [
       "<matplotlib.text.Text at 0x7a8aa56630>"
      ]
     },
     "execution_count": 263,
     "metadata": {},
     "output_type": "execute_result"
    },
    {
     "data": {
      "image/png": "[encoded data removed]",
      "text/plain": [
       "<matplotlib.figure.Figure at 0x7a8ab647b8>"
      ]
     },
     "metadata": {},
     "output_type": "display_data"
    }
   ],
   "source": [
    "M12 = Matrix12(r_12_array[3],t_12_array[3])\n",
    "M2 = Matrix2_free(phi_z_2_array[3],size_of_array)\n",
    "M21 = Matrix12(r_21_array[3],t_21_array[3])\n",
    "M1 = Matrix2_free(phi_z_1,size_of_array)\n",
    "#print(M12)\n",
    "#print(M2[0])\n",
    "A = np.dot(M12,M2[0])\n",
    "#print(np.dot(M12,M2[0]))\n",
    "print(A)\n",
    "\n",
    "j = size_of_array\n",
    "i = 0\n",
    "M122 = np.zeros(j, dtype=object)\n",
    "while i < j:\n",
    "    M122[i] = np.dot(M12,M2[i])\n",
    "    i+=1\n",
    "#print(M122)\n",
    "print(M122[0])\n",
    "\n",
    "j = size_of_array\n",
    "i = 0\n",
    "M12221 = np.zeros(j, dtype=object)\n",
    "while i < j:\n",
    "    M12221[i] = np.dot(M122[i],M21)\n",
    "    i+=1\n",
    "    \n",
    "j = size_of_array\n",
    "i = 0\n",
    "M122211 = np.zeros(j, dtype=object)\n",
    "while i < j:\n",
    "    M122211[i] = np.dot(M12221[i],M1[i])\n",
    "    i+=1\n",
    "    \n",
    "M_period = M122211\n",
    "M_temp = M_period\n",
    "i = 0\n",
    "j = number_of_periods-1\n",
    "while i < j:\n",
    "    M__temp = np.dot(M_temp,M_period)\n",
    "    i+=1\n",
    "print(M_temp[0])\n",
    "\n",
    "j = size_of_array\n",
    "i = 0\n",
    "r_total4 = np.zeros(j, dtype=object)\n",
    "R_total4 = np.zeros(j, dtype=object)\n",
    "while i < j:\n",
    "    r_total4[i] = M_temp[i][1][0]/M_temp[i][0][0]\n",
    "    R_total4[i] = (np.absolute(r_total4[i]))**2\n",
    "    i+=1\n",
    "    \n",
    "plt.plot(wavelength, R_total4)\n",
    "plt.xlabel(\"wavelength (m)\")\n",
    "plt.ylabel(\"R\")\n",
    "plt.title(\"Delta n = 10*10^-4\")"
   ]
  },
  {
   "cell_type": "code",
   "execution_count": 268,
   "metadata": {
    "collapsed": false
   },
   "outputs": [
    {
     "data": {
      "text/plain": [
       "<matplotlib.text.Text at 0x7a8ae3be48>"
      ]
     },
     "execution_count": 268,
     "metadata": {},
     "output_type": "execute_result"
    },
    {
     "data": {
      "image/png": "[encoded data removed]",
      "text/plain": [
       "<matplotlib.figure.Figure at 0x7a8ae0a940>"
      ]
     },
     "metadata": {},
     "output_type": "display_data"
    }
   ],
   "source": [
    "plt.plot(wavelength, R_total1, color='r', label=\".1\")\n",
    "plt.plot(wavelength, R_total2, color='b', label=\"2\")\n",
    "plt.plot(wavelength, R_total3, color='g', label=\"5\")\n",
    "plt.plot(wavelength, R_total4, color='c', label=\"10\")\n",
    "plt.xlabel(\"wavelength (m)\")\n",
    "plt.ylabel(\"R\")\n",
    "plt.title(\"All delta n\")\n",
    "plt.legend(loc=1)\n",
    "plt.title(\"0, 40, and 75 degrees\")"
   ]
  },
  {
   "cell_type": "markdown",
   "metadata": {},
   "source": [
    "# something not right above. Also, need to add transmission spectrum (maybe thats whats not looking right?)"
   ]
  },
  {
   "cell_type": "markdown",
   "metadata": {},
   "source": [
    "# Old homework"
   ]
  },
  {
   "cell_type": "code",
   "execution_count": 23,
   "metadata": {
    "collapsed": false
   },
   "outputs": [
    {
     "name": "stdout",
     "output_type": "stream",
     "text": [
      "n1 (air) = 1\n",
      "n3 (silicon) = 3.5\n",
      "theta40i = 0.6981317007977318\n",
      "theta40t = 0.184701992274\n",
      "theta75i = 1.3089969389957472\n",
      "theta75t = 0.279607910423\n"
     ]
    }
   ],
   "source": [
    "n1 = 1 #air\n",
    "n3 = 3.5 #silicon\n",
    "r_normal = (n1-n3)/(n1+n3)\n",
    "R_normal = r_normal**2\n",
    "theta40i = 40*np.pi/180 #incoming\n",
    "theta40t = np.arcsin((n1/n3)*np.sin(theta40i)) #transmitting\n",
    "theta75i = 75*np.pi/180 #incoming\n",
    "theta75t = np.arcsin((n1/n3)*np.sin(theta75i)) #transmitting\n",
    "print(\"n1 (air) =\", n1)\n",
    "print(\"n3 (silicon) =\", n3)\n",
    "print(\"theta40i =\", theta40i)\n",
    "print(\"theta40t =\", theta40t)\n",
    "print(\"theta75i =\", theta75i)\n",
    "print(\"theta75t =\", theta75t)"
   ]
  },
  {
   "cell_type": "code",
   "execution_count": 24,
   "metadata": {
    "collapsed": false
   },
   "outputs": [],
   "source": [
    "def r_TE(n1,n3,thetai, thetat):\n",
    "    r_te = (n1*np.cos(thetai)-n3*np.cos(thetat))/(n1*np.cos(thetai)+n3*np.cos(thetat))\n",
    "    return r_te"
   ]
  },
  {
   "cell_type": "code",
   "execution_count": 25,
   "metadata": {
    "collapsed": true
   },
   "outputs": [],
   "source": [
    "def r_TM(n1,n3,thetai,thetat):\n",
    "    r_tm = (n1*(1/np.cos(thetai))-n3*(1/np.cos(thetat)))/(n1*(1/np.cos(thetai))+n3*(1/np.cos(thetat)))\n",
    "    return r_tm"
   ]
  },
  {
   "cell_type": "code",
   "execution_count": 26,
   "metadata": {
    "collapsed": true
   },
   "outputs": [],
   "source": [
    "def finding_R(r):\n",
    "    R = np.absolute(r)**2\n",
    "    return R"
   ]
  },
  {
   "cell_type": "code",
   "execution_count": 27,
   "metadata": {
    "collapsed": false
   },
   "outputs": [
    {
     "name": "stdout",
     "output_type": "stream",
     "text": [
      "r_normal = -0.5555555555555556\n",
      "R_normal = 0.308641975308642\n",
      "r_TE for 40 degrees = -0.635781732813\n",
      "r_TE for 75 degrees = -0.857120201043\n",
      "R for 40 degrees TE = 0.404218411778\n",
      "R for 75 degrees TE = 0.734655039037\n"
     ]
    }
   ],
   "source": [
    "print (\"r_normal =\",r_normal)\n",
    "print(\"R_normal =\",R_normal)\n",
    "r_TE40 = r_TE(n1,n3,theta40i,theta40t)\n",
    "print(\"r_TE for 40 degrees =\",r_TE40)\n",
    "#r_TM40 = r_TM(n1,n3,theta40i,theta40t)\n",
    "#print(\"r_TM for 40 degrees =\",r_TM40)\n",
    "r_TE75 = r_TE(n1,n3,theta75i,theta75t)\n",
    "print(\"r_TE for 75 degrees =\",r_TE75)\n",
    "#r_TM75 = r_TM(n1,n3,theta75i,theta75t)\n",
    "#print(\"r_TM for 75 degrees =\",r_TM75)\n",
    "R_40TE = finding_R(r_TE40)\n",
    "print(\"R for 40 degrees TE =\",R_40TE)\n",
    "#R_40TM = finding_R(r_TM40)\n",
    "#print(\"R for 40 degrees TM =\",R_40TM)\n",
    "R_75TE = finding_R(r_TE75)\n",
    "print(\"R for 75 degrees TE =\",R_75TE)\n",
    "#R_75TM = finding_R(r_TM75)\n",
    "#print(\"R for 75 degrees TM =\",R_75TM)"
   ]
  },
  {
   "cell_type": "markdown",
   "metadata": {},
   "source": [
    "## Problem 2"
   ]
  },
  {
   "cell_type": "code",
   "execution_count": 28,
   "metadata": {
    "collapsed": false
   },
   "outputs": [
    {
     "name": "stdout",
     "output_type": "stream",
     "text": [
      "lambda_problem2 (nm) = 5.000000000000001e-07\n",
      "n2 = 1.87082869339\n",
      "d (meters) = 6.68153104781e-08\n",
      "d (nm) = 66.8153104781\n"
     ]
    }
   ],
   "source": [
    "lambda_problem2 = 500*10**(-9)\n",
    "print(\"lambda_problem2 (nm) =\",lambda_problem2)\n",
    "n2 = np.sqrt(n1*n3)\n",
    "print(\"n2 =\", n2)\n",
    "d = 0.25*lambda_problem2/n2\n",
    "print(\"d (meters) =\",d)\n",
    "print(\"d (nm) =\", d*10**9)"
   ]
  },
  {
   "cell_type": "markdown",
   "metadata": {},
   "source": [
    "## Problem 3"
   ]
  },
  {
   "cell_type": "code",
   "execution_count": 29,
   "metadata": {
    "collapsed": true
   },
   "outputs": [],
   "source": [
    "def t_TE(n1,n3,thetai, thetat):\n",
    "    t_te = (2*n1*np.cos(thetai))/(n1*np.cos(thetai)+n3*np.cos(thetat))\n",
    "    return t_te\n",
    "def t_TM(n1,n3,thetai, thetat):\n",
    "    t_tm = (2*n1*(1/np.cos(thetat)))/(n1*(1/np.cos(thetai))+n3*(1/np.cos(thetat)))\n",
    "    return t_tm"
   ]
  },
  {
   "cell_type": "code",
   "execution_count": 30,
   "metadata": {
    "collapsed": false
   },
   "outputs": [
    {
     "name": "stdout",
     "output_type": "stream",
     "text": [
      "t_normal = 0.69666295471\n",
      "t_TE for 40 degrees = 0.588122131561\n",
      "t_TE for 75 degrees = 0.251648116529\n"
     ]
    }
   ],
   "source": [
    "t_normal = 2*n1/(n1+n2)\n",
    "print(\"t_normal =\",t_normal)\n",
    "t_TE40 = t_TE(n1,n2,theta40i,theta40t)\n",
    "print(\"t_TE for 40 degrees =\",t_TE40)\n",
    "#t_TM40 = t_TM(n1,n2,theta40i,theta40t)\n",
    "#print(\"t_TM for 40 degrees =\",t_TM40)\n",
    "t_TE75 = t_TE(n1,n2,theta75i,theta75t)\n",
    "print(\"t_TE for 75 degrees =\",t_TE75)\n",
    "#t_TM75 = t_TM(n1,n2,theta75i,theta75t)\n",
    "#print(\"t_TM for 75 degrees =\",t_TM75)"
   ]
  },
  {
   "cell_type": "code",
   "execution_count": 31,
   "metadata": {
    "collapsed": false
   },
   "outputs": [],
   "source": [
    "def Matrix12(r,t):\n",
    "    M12 = (1/t)*np.array([[1,r],[r,1]])\n",
    "    return M12\n",
    "def Matrix2_free(phi_z,size_of_array):\n",
    "    j = size_of_array\n",
    "    i = 0\n",
    "    M2_free = np.zeros(j, dtype=object)\n",
    "    #print(\"M2_free\",M2_free)\n",
    "    while i < j:\n",
    "        M2_free[i] = np.array([[np.exp(phi_z[i]*1j),0],[0,np.exp(phi_z[i]*(-1j))]])\n",
    "        i+=1\n",
    "    #M2_free = np.array([[np.exp(phi_z*1j),0],[0,np.exp(phi_z*(-1j))]])\n",
    "    return M2_free\n",
    "def phi_z(n,d,theta,lambda_wavelength):\n",
    "    phi = 2*np.pi*n*d*np.cos(theta)/lambda_wavelength\n",
    "    return phi"
   ]
  },
  {
   "cell_type": "code",
   "execution_count": 32,
   "metadata": {
    "collapsed": true
   },
   "outputs": [],
   "source": [
    "theta40_air = 40*np.pi/180 \n",
    "theta40_coating = np.arcsin((n1/n2)*np.sin(theta40_air)) \n",
    "theta40_silicon = np.arcsin((n2/n3)*np.sin(theta40_coating)) \n",
    "theta75_air = 75*np.pi/180 \n",
    "theta75_coating = np.arcsin((n1/n2)*np.sin(theta75_air)) \n",
    "theta75_silicon = np.arcsin((n2/n3)*np.sin(theta75_coating)) "
   ]
  },
  {
   "cell_type": "code",
   "execution_count": 33,
   "metadata": {
    "collapsed": false
   },
   "outputs": [],
   "source": [
    "r_TE40air_to_coating = r_TE(n1,n2,theta40_air, theta40_coating)\n",
    "r_TE40coating_to_silicon = r_TE(n2,n3,theta40_coating, theta40_silicon)\n",
    "t_TE40air_to_coating = t_TE(n1,n2,theta40_air, theta40_coating)\n",
    "t_TE40coating_to_silicon = t_TE(n2,n3,theta40_coating, theta40_silicon)"
   ]
  },
  {
   "cell_type": "code",
   "execution_count": 126,
   "metadata": {
    "collapsed": false
   },
   "outputs": [],
   "source": [
    "M12_TE40 = Matrix12(r_TE40air_to_coating,t_TE40air_to_coating)\n",
    "#print(\"M12_TE40 = \",M12_TE40)\n",
    "size_of_array = 10\n",
    "wavelength = np.linspace(200*10**-9,1000*10**-9,size_of_array)\n",
    "#print(\"wavelength\",wavelength)\n",
    "#print(\"wavelength =\", wavelength)\n",
    "phi_z_40 = phi_z(n2,d,theta40_coating,wavelength)\n",
    "#print(\"phi_z_40 =\", phi_z_40)\n",
    "M2_TE40 = Matrix2_free(phi_z_40,size_of_array)\n",
    "#print(\"M2_TE40 =\",M2_TE40)\n",
    "M23_TE40 = Matrix12(r_TE40coating_to_silicon,t_TE40coating_to_silicon)\n",
    "#print(\"M23_TE40 =\",M23_TE40)"
   ]
  },
  {
   "cell_type": "code",
   "execution_count": 129,
   "metadata": {
    "collapsed": false
   },
   "outputs": [
    {
     "name": "stdout",
     "output_type": "stream",
     "text": [
      "[[ 1.24999960-1.07206094j -0.49093287-0.4210481j ]\n",
      " [-0.49093287+0.4210481j   1.24999960+1.07206094j]]\n"
     ]
    }
   ],
   "source": [
    "j = size_of_array\n",
    "i = 0\n",
    "New_M122_40 = np.zeros(j, dtype=object)\n",
    "while i < j:\n",
    "    New_M122_40[i] = np.dot(M12_TE40,M2_TE40[i])\n",
    "    i+=1\n",
    "print(New_M122_40[2])"
   ]
  },
  {
   "cell_type": "code",
   "execution_count": 36,
   "metadata": {
    "collapsed": false
   },
   "outputs": [],
   "source": [
    "j = size_of_array\n",
    "i = 0\n",
    "New_M12223_40 = np.zeros(j, dtype=object)\n",
    "while i < j:\n",
    "    New_M12223_40[i] = np.dot(New_M122_40[i],M23_TE40)\n",
    "    i+=1\n",
    "#print(\"New_M12223\",New_M12223[0])"
   ]
  },
  {
   "cell_type": "code",
   "execution_count": 37,
   "metadata": {
    "collapsed": false
   },
   "outputs": [],
   "source": [
    "j = size_of_array\n",
    "i = 0\n",
    "r_40_TE = np.zeros(j, dtype=object)\n",
    "R_40_TE = np.zeros(j, dtype=object)\n",
    "while i < j:\n",
    "    r_40_TE[i] = New_M12223_40[i][1][0]/New_M12223_40[i][0][0]\n",
    "    R_40_TE[i] = (np.absolute(r_40_TE[i]))**2\n",
    "    i+=1\n",
    "#print(r_40_TE)\n",
    "#print(R_40_TE)"
   ]
  },
  {
   "cell_type": "code",
   "execution_count": 38,
   "metadata": {
    "collapsed": false
   },
   "outputs": [
    {
     "data": {
      "text/plain": [
       "<matplotlib.text.Text at 0x7a87986ba8>"
      ]
     },
     "execution_count": 38,
     "metadata": {},
     "output_type": "execute_result"
    },
    {
     "data": {
      "image/png": "[encoded data removed]",
      "text/plain": [
       "<matplotlib.figure.Figure at 0x7a871a1d30>"
      ]
     },
     "metadata": {},
     "output_type": "display_data"
    }
   ],
   "source": [
    "plt.plot(wavelength, R_40_TE)\n",
    "plt.xlabel(\"wavelength (m)\")\n",
    "plt.ylabel(\"R\")\n",
    "plt.title(\"40 degrees\")"
   ]
  },
  {
   "cell_type": "code",
   "execution_count": 39,
   "metadata": {
    "collapsed": true
   },
   "outputs": [],
   "source": [
    "r_TE75air_to_coating = r_TE(n1,n2,theta75_air, theta75_coating)\n",
    "r_TE75coating_to_silicon = r_TE(n2,n3,theta75_coating, theta75_silicon)\n",
    "t_TE75air_to_coating = t_TE(n1,n2,theta75_air, theta75_coating)\n",
    "t_TE75coating_to_silicon = t_TE(n2,n3,theta75_coating, theta75_silicon)"
   ]
  },
  {
   "cell_type": "code",
   "execution_count": 40,
   "metadata": {
    "collapsed": false
   },
   "outputs": [],
   "source": [
    "M12_TE75 = Matrix12(r_TE75air_to_coating,t_TE75air_to_coating)\n",
    "#print(\"M12_TE40 = \",M12_TE40)\n",
    "size_of_array = 100\n",
    "wavelength = np.linspace(200*10**-9,1000*10**-9,size_of_array)\n",
    "#print(\"wavelength\",wavelength)\n",
    "#print(\"wavelength =\", wavelength)\n",
    "phi_z_75 = phi_z(n2,d,theta75_coating,wavelength)\n",
    "#print(\"phi_z_40 =\", phi_z_40)\n",
    "M2_TE75 = Matrix2_free(phi_z_75,size_of_array)\n",
    "#print(\"M2_TE40 =\",M2_TE40)\n",
    "M23_TE75 = Matrix12(r_TE75coating_to_silicon,t_TE75coating_to_silicon)\n",
    "#print(\"M23_TE40 =\",M23_TE40)"
   ]
  },
  {
   "cell_type": "code",
   "execution_count": 41,
   "metadata": {
    "collapsed": true
   },
   "outputs": [],
   "source": [
    "j = size_of_array\n",
    "i = 0\n",
    "New_M122_75 = np.zeros(j, dtype=object)\n",
    "while i < j:\n",
    "    New_M122_75[i] = np.dot(M12_TE75,M2_TE75[i])\n",
    "    i+=1\n",
    "#print(\"New_M122\",New_M122[2])"
   ]
  },
  {
   "cell_type": "code",
   "execution_count": 42,
   "metadata": {
    "collapsed": false
   },
   "outputs": [],
   "source": [
    "j = size_of_array\n",
    "i = 0\n",
    "New_M12223_75 = np.zeros(j, dtype=object)\n",
    "while i < j:\n",
    "    New_M12223_75[i] = np.dot(New_M122_75[i],M23_TE75)\n",
    "    i+=1\n",
    "#print(\"New_M12223\",New_M12223[0])"
   ]
  },
  {
   "cell_type": "code",
   "execution_count": 43,
   "metadata": {
    "collapsed": true
   },
   "outputs": [],
   "source": [
    "j = size_of_array\n",
    "i = 0\n",
    "r_75_TE = np.zeros(j, dtype=object)\n",
    "R_75_TE = np.zeros(j, dtype=object)\n",
    "while i < j:\n",
    "    r_75_TE[i] = New_M12223_75[i][1][0]/New_M12223_75[i][0][0]\n",
    "    R_75_TE[i] = (np.absolute(r_75_TE[i]))**2\n",
    "    i+=1\n",
    "#print(r_40_TE)\n",
    "#print(R_40_TE)"
   ]
  },
  {
   "cell_type": "code",
   "execution_count": 44,
   "metadata": {
    "collapsed": false
   },
   "outputs": [
    {
     "data": {
      "text/plain": [
       "<matplotlib.text.Text at 0x7a87ee18d0>"
      ]
     },
     "execution_count": 44,
     "metadata": {},
     "output_type": "execute_result"
    },
    {
     "data": {
      "image/png": "[encoded data removed]",
      "text/plain": [
       "<matplotlib.figure.Figure at 0x7a87ec9b70>"
      ]
     },
     "metadata": {},
     "output_type": "display_data"
    }
   ],
   "source": [
    "plt.plot(wavelength, R_75_TE)\n",
    "plt.xlabel(\"wavelength (m)\")\n",
    "plt.ylabel(\"R\")\n",
    "plt.title(\"75 degrees\")"
   ]
  },
  {
   "cell_type": "code",
   "execution_count": 45,
   "metadata": {
    "collapsed": true
   },
   "outputs": [],
   "source": [
    "theta_N__air = 0\n",
    "theta_N__coating = np.arcsin((n1/n2)*np.sin(theta_N__air)) \n",
    "theta_N__silicon = np.arcsin((n2/n3)*np.sin(theta_N__coating)) "
   ]
  },
  {
   "cell_type": "code",
   "execution_count": 46,
   "metadata": {
    "collapsed": false
   },
   "outputs": [],
   "source": [
    "r_TE_N_air_to_coating = r_TE(n1,n2,theta_N__air, theta_N__coating)\n",
    "r_TE_N_coating_to_silicon = r_TE(n2,n3,theta_N__coating, theta_N__silicon)\n",
    "t_TE_N_air_to_coating = t_TE(n1,n2,theta_N__air, theta_N__coating)\n",
    "t_TE_N_coating_to_silicon = t_TE(n2,n3,theta_N__coating, theta_N__silicon)"
   ]
  },
  {
   "cell_type": "code",
   "execution_count": 47,
   "metadata": {
    "collapsed": false
   },
   "outputs": [
    {
     "name": "stdout",
     "output_type": "stream",
     "text": [
      "phi_z_40 = [ 3.68792265  3.54470235  3.41219012  3.28922831  3.17482037  3.06810372\n",
      "  2.96832799  2.87483734  2.78705605  2.70447661  2.62664995  2.55317722\n",
      "  2.48370301  2.41790955  2.35551189  2.29625373  2.23990394  2.18625355\n",
      "  2.13511311  2.08631053  2.03968906  1.9951057   1.95242964  1.91154106\n",
      "  1.87232996  1.83469519  1.79854356  1.76378909  1.73035233  1.69815973\n",
      "  1.66714312  1.6372392   1.60838917  1.58053828  1.5536355   1.52763323\n",
      "  1.50248701  1.47815523  1.45459897  1.43178174  1.40966928  1.38822944\n",
      "  1.36743199  1.3472485   1.32765215  1.30861772  1.29012135  1.27214057\n",
      "  1.2546541   1.23764184  1.22108476  1.20496483  1.18926496  1.17396895\n",
      "  1.1590614   1.14452772  1.130354    1.11652704  1.10303427  1.08986371\n",
      "  1.07700396  1.06444415  1.0521739   1.04018331  1.02846294  1.01700374\n",
      "  1.00579709  0.99483472  0.98410874  0.97361158  0.963336    0.95327505\n",
      "  0.94342207  0.9337707   0.92431479  0.91504848  0.90596611  0.89706227\n",
      "  0.88833173  0.8797695   0.87137075  0.86313083  0.8550453   0.84710984\n",
      "  0.83932033  0.83167276  0.8241633   0.81678824  0.809544    0.80242713\n",
      "  0.7954343   0.78856229  0.78180801  0.77516846  0.76864072  0.76222201\n",
      "  0.75590961  0.74970091  0.74359337  0.73758453]\n"
     ]
    }
   ],
   "source": [
    "M12_TE_N_ = Matrix12(r_TE_N_air_to_coating,t_TE_N_air_to_coating)\n",
    "#print(\"M12_TE40 = \",M12_TE40)\n",
    "size_of_array = 100\n",
    "wavelength = np.linspace(200*10**-9,1000*10**-9,size_of_array)\n",
    "#print(\"wavelength\",wavelength)\n",
    "#print(\"wavelength =\", wavelength)\n",
    "phi_z__N_ = phi_z(n2,d,theta_N__coating,wavelength)\n",
    "print(\"phi_z_40 =\", phi_z_40)\n",
    "M2_TE_N_ = Matrix2_free(phi_z__N_,size_of_array)\n",
    "#print(\"M2_TE40 =\",M2_TE40)\n",
    "M23_TE_N_ = Matrix12(r_TE_N_coating_to_silicon,t_TE_N_coating_to_silicon)\n",
    "#print(\"M23_TE40 =\",M23_TE40)"
   ]
  },
  {
   "cell_type": "code",
   "execution_count": 48,
   "metadata": {
    "collapsed": true
   },
   "outputs": [],
   "source": [
    "j = size_of_array\n",
    "i = 0\n",
    "New_M122__N_ = np.zeros(j, dtype=object)\n",
    "while i < j:\n",
    "    New_M122__N_[i] = np.dot(M12_TE_N_,M2_TE_N_[i])\n",
    "    i+=1\n",
    "#print(\"New_M122\",New_M122[2])"
   ]
  },
  {
   "cell_type": "code",
   "execution_count": 49,
   "metadata": {
    "collapsed": true
   },
   "outputs": [],
   "source": [
    "j = size_of_array\n",
    "i = 0\n",
    "New_M12223__N_ = np.zeros(j, dtype=object)\n",
    "while i < j:\n",
    "    New_M12223__N_[i] = np.dot(New_M122__N_[i],M23_TE_N_)\n",
    "    i+=1\n",
    "#print(\"New_M12223\",New_M12223[0])"
   ]
  },
  {
   "cell_type": "code",
   "execution_count": 50,
   "metadata": {
    "collapsed": true
   },
   "outputs": [],
   "source": [
    "j = size_of_array\n",
    "i = 0\n",
    "r__N__TE = np.zeros(j, dtype=object)\n",
    "R__N__TE = np.zeros(j, dtype=object)\n",
    "while i < j:\n",
    "    r__N__TE[i] = New_M12223__N_[i][1][0]/New_M12223__N_[i][0][0]\n",
    "    R__N__TE[i] = (np.absolute(r__N__TE[i]))**2\n",
    "    i+=1\n",
    "#print(r_40_TE)\n",
    "#print(R_40_TE)"
   ]
  },
  {
   "cell_type": "code",
   "execution_count": 51,
   "metadata": {
    "collapsed": false
   },
   "outputs": [
    {
     "data": {
      "text/plain": [
       "<matplotlib.text.Text at 0x7a87f5c630>"
      ]
     },
     "execution_count": 51,
     "metadata": {},
     "output_type": "execute_result"
    },
    {
     "data": {
      "image/png": "[encoded data removed]",
      "text/plain": [
       "<matplotlib.figure.Figure at 0x7a87f186a0>"
      ]
     },
     "metadata": {},
     "output_type": "display_data"
    }
   ],
   "source": [
    "plt.plot(wavelength, R__N__TE)\n",
    "plt.xlabel(\"wavelength (m)\")\n",
    "plt.ylabel(\"R\")\n",
    "plt.title(\"0 degrees\")"
   ]
  },
  {
   "cell_type": "code",
   "execution_count": 52,
   "metadata": {
    "collapsed": false
   },
   "outputs": [
    {
     "data": {
      "text/plain": [
       "<matplotlib.text.Text at 0x7a87fbf7f0>"
      ]
     },
     "execution_count": 52,
     "metadata": {},
     "output_type": "execute_result"
    },
    {
     "data": {
      "image/png": "[encoded data removed]",
      "text/plain": [
       "<matplotlib.figure.Figure at 0x7a87f218d0>"
      ]
     },
     "metadata": {},
     "output_type": "display_data"
    }
   ],
   "source": [
    "plt.plot(wavelength, R__N__TE, color='r', label=\"0 degrees\")\n",
    "plt.plot(wavelength, R_40_TE, color='b', label=\"40 degrees\")\n",
    "plt.plot(wavelength, R_75_TE, color='g', label=\"75 degrees\")\n",
    "plt.xlabel(\"wavelength (m)\")\n",
    "plt.ylabel(\"R\")\n",
    "plt.legend(loc=1)\n",
    "plt.title(\"0, 40, and 75 degrees\")"
   ]
  },
  {
   "cell_type": "markdown",
   "metadata": {},
   "source": [
    "## Problem 4"
   ]
  },
  {
   "cell_type": "code",
   "execution_count": 53,
   "metadata": {
    "collapsed": false
   },
   "outputs": [
    {
     "name": "stdout",
     "output_type": "stream",
     "text": [
      "n2 = 1.5182944859378311\n",
      "n3 = 2.8404688893\n",
      "d2 (meters) = 4.9397531700626223e-08\n",
      "d2 (nm) = 49.397531700626224\n",
      "d3 (meters) = 4.40068188991e-08\n",
      "d3 (nm) = 44.0068188991\n"
     ]
    }
   ],
   "source": [
    "lambda_problem4_a = 300*10**(-9)\n",
    "lambda_problem4_b = 500*10**(-9)\n",
    "#print(\"lambda_problem2 (nm) =\",lambda_problem2)\n",
    "n1 = 1 # air\n",
    "n4 = 3.5 # silicon\n",
    "\n",
    "n2 = ((n1**2)*n4)**(1/3) # second layer (300 nm)\n",
    "# above equation found by using n2 = sqrt(n1*n3) and n3 = sqrt(n2*n4) and solving for n2 in terms of n1 and n4\n",
    "\n",
    "#n3 = np.sqrt(n2*n4)\n",
    "n3 = n2*np.sqrt(n4/n1) # first layer (500 nm)\n",
    "# above equation found at https://www.osapublishing.org/DirectPDFAccess/71118AAB-CE9D-AF1C-450F81750F717829_259560/oe-21-15-18207.pdf?da=1&id=259560&seq=0&mobile=no\n",
    "print(\"n2 =\", n2)\n",
    "print(\"n3 =\", n3)\n",
    "d2 = 0.25*lambda_problem4_a/n2\n",
    "d3 = 0.25*lambda_problem4_b/n3\n",
    "print(\"d2 (meters) =\",d2)\n",
    "print(\"d2 (nm) =\", d2*10**9)\n",
    "print(\"d3 (meters) =\",d3)\n",
    "print(\"d3 (nm) =\", d3*10**9)"
   ]
  },
  {
   "cell_type": "markdown",
   "metadata": {},
   "source": [
    "## Problem 5"
   ]
  },
  {
   "cell_type": "code",
   "execution_count": 54,
   "metadata": {
    "collapsed": true
   },
   "outputs": [],
   "source": [
    "def Matrix12(r,t):\n",
    "    M12 = (1/t)*np.array([[1,r],[r,1]])\n",
    "    return M12\n",
    "def Matrix2_free(phi_z,size_of_array):\n",
    "    j = size_of_array\n",
    "    i = 0\n",
    "    M2_free = np.zeros(j, dtype=object)\n",
    "    #print(\"M2_free\",M2_free)\n",
    "    while i < j:\n",
    "        M2_free[i] = np.array([[np.exp(phi_z[i]*1j),0],[0,np.exp(phi_z[i]*(-1j))]])\n",
    "        i+=1\n",
    "    #M2_free = np.array([[np.exp(phi_z*1j),0],[0,np.exp(phi_z*(-1j))]])\n",
    "    return M2_free\n",
    "def phi_z(n,d,theta,lambda_wavelength):\n",
    "    phi = 2*np.pi*n*d*np.cos(theta)/lambda_wavelength\n",
    "    return phi"
   ]
  },
  {
   "cell_type": "code",
   "execution_count": 55,
   "metadata": {
    "collapsed": true
   },
   "outputs": [],
   "source": [
    "theta40_air = 40*np.pi/180 \n",
    "theta40_coating1 = np.arcsin((n1/n2)*np.sin(theta40_air)) \n",
    "theta40_coating2 = np.arcsin((n2/n3)*np.sin(theta40_coating1)) \n",
    "theta40_silicon = np.arcsin((n3/n4)*np.sin(theta40_coating2)) \n",
    "theta75_air = 75*np.pi/180 \n",
    "theta75_coating1 = np.arcsin((n1/n2)*np.sin(theta75_air)) \n",
    "theta75_coating2 = np.arcsin((n2/n3)*np.sin(theta75_coating1)) \n",
    "theta75_silicon = np.arcsin((n3/n4)*np.sin(theta75_coating2)) "
   ]
  },
  {
   "cell_type": "code",
   "execution_count": 56,
   "metadata": {
    "collapsed": true
   },
   "outputs": [],
   "source": [
    "theta_N__air = 0\n",
    "theta_N__coating1 = np.arcsin((n1/n2)*np.sin(theta_N__air)) \n",
    "theta_N__coating2 = np.arcsin((n2/n3)*np.sin(theta_N__coating1)) \n",
    "theta_N__silicon = np.arcsin((n3/n4)*np.sin(theta_N__coating2)) "
   ]
  },
  {
   "cell_type": "code",
   "execution_count": 57,
   "metadata": {
    "collapsed": true
   },
   "outputs": [],
   "source": [
    "r_TE40air_to_coating1 = r_TE(n1,n2,theta40_air, theta40_coating1)\n",
    "r_TE40coating1_to_coating2 = r_TE(n2,n3,theta40_coating1, theta40_coating2)\n",
    "r_TE40coating2_to_silicon = r_TE(n2,n3,theta40_coating2, theta40_silicon)\n",
    "t_TE40air_to_coating1 = t_TE(n1,n2,theta40_air, theta40_coating1)\n",
    "t_TE40coating1_to_coating2 = t_TE(n2,n3,theta40_coating1, theta40_coating2)\n",
    "t_TE40coating2_to_silicon = t_TE(n2,n3,theta40_coating, theta40_silicon)"
   ]
  },
  {
   "cell_type": "code",
   "execution_count": 58,
   "metadata": {
    "collapsed": true
   },
   "outputs": [],
   "source": [
    "r_TE75air_to_coating1 = r_TE(n1,n2,theta75_air, theta75_coating1)\n",
    "r_TE75coating1_to_coating2 = r_TE(n2,n3,theta75_coating1, theta75_coating2)\n",
    "r_TE75coating2_to_silicon = r_TE(n2,n3,theta75_coating2, theta75_silicon)\n",
    "t_TE75air_to_coating1 = t_TE(n1,n2,theta75_air, theta75_coating1)\n",
    "t_TE75coating1_to_coating2 = t_TE(n2,n3,theta75_coating1, theta75_coating2)\n",
    "t_TE75coating2_to_silicon = t_TE(n2,n3,theta75_coating, theta75_silicon)"
   ]
  },
  {
   "cell_type": "code",
   "execution_count": 59,
   "metadata": {
    "collapsed": true
   },
   "outputs": [],
   "source": [
    "r_TE_N_air_to_coating1 = r_TE(n1,n2,theta_N__air, theta_N__coating1)\n",
    "r_TE_N_coating1_to_coating2 = r_TE(n1,n2,theta_N__coating1, theta_N__coating2)\n",
    "r_TE_N_coating2_to_silicon = r_TE(n2,n3,theta_N__coating2, theta_N__silicon)\n",
    "t_TE_N_air_to_coating1 = t_TE(n1,n2,theta_N__air, theta_N__coating1)\n",
    "t_TE_N_coating1_to_coating2 = t_TE(n1,n2,theta_N__coating1, theta_N__coating2)\n",
    "t_TE_N_coating2_to_silicon = t_TE(n2,n3,theta_N__coating2, theta_N__silicon)"
   ]
  },
  {
   "cell_type": "code",
   "execution_count": 60,
   "metadata": {
    "collapsed": false
   },
   "outputs": [],
   "source": [
    "M12_TE40 = Matrix12(r_TE40air_to_coating1,t_TE40air_to_coating1)\n",
    "#print(\"M12_TE40 = \",M12_TE40)\n",
    "size_of_array = 100\n",
    "wavelength = np.linspace(200*10**-9,1000*10**-9,size_of_array)\n",
    "#print(\"wavelength\",wavelength)\n",
    "#print(\"wavelength =\", wavelength)\n",
    "phi_z_40_a = phi_z(n2,d,theta40_coating1,wavelength)\n",
    "#print(\"phi_z_40 =\", phi_z_40)\n",
    "M2_TE40 = Matrix2_free(phi_z_40_a,size_of_array)\n",
    "#print(\"M2_TE40 =\",M2_TE40)\n",
    "M23_TE40 = Matrix12(r_TE40coating1_to_coating2,t_TE40coating1_to_coating2)\n",
    "#print(\"M23_TE40 =\",M23_TE40)\n",
    "phi_z_40_b = phi_z(n2,d,theta40_coating2,wavelength)\n",
    "M3_TE40 = Matrix2_free(phi_z_40_b,size_of_array)\n",
    "M34_TE40 = Matrix12(r_TE40coating2_to_silicon,t_TE40coating2_to_silicon)"
   ]
  },
  {
   "cell_type": "code",
   "execution_count": 61,
   "metadata": {
    "collapsed": true
   },
   "outputs": [],
   "source": [
    "j = size_of_array\n",
    "i = 0\n",
    "New_M122_40 = np.zeros(j, dtype=object)\n",
    "while i < j:\n",
    "    New_M122_40[i] = np.dot(M12_TE40,M2_TE40[i])\n",
    "    i+=1\n",
    "#print(\"New_M122\",New_M122[2])"
   ]
  },
  {
   "cell_type": "code",
   "execution_count": 62,
   "metadata": {
    "collapsed": true
   },
   "outputs": [],
   "source": [
    "j = size_of_array\n",
    "i = 0\n",
    "New_M12223_40 = np.zeros(j, dtype=object)\n",
    "while i < j:\n",
    "    New_M12223_40[i] = np.dot(New_M122_40[i],M23_TE40)\n",
    "    i+=1\n",
    "#print(\"New_M12223\",New_M12223[0])"
   ]
  },
  {
   "cell_type": "code",
   "execution_count": 63,
   "metadata": {
    "collapsed": false
   },
   "outputs": [],
   "source": [
    "j = size_of_array\n",
    "i = 0\n",
    "New_M122233_40 = np.zeros(j, dtype=object)\n",
    "while i < j:\n",
    "    New_M122233_40[i] = np.dot(New_M12223_40[i],M3_TE40[i])\n",
    "    i+=1\n",
    "#print(\"New_M12223\",New_M12223[0])"
   ]
  },
  {
   "cell_type": "code",
   "execution_count": 64,
   "metadata": {
    "collapsed": true
   },
   "outputs": [],
   "source": [
    "j = size_of_array\n",
    "i = 0\n",
    "New_M12223334_40 = np.zeros(j, dtype=object)\n",
    "while i < j:\n",
    "    New_M12223334_40[i] = np.dot(New_M122233_40[i],M34_TE40)\n",
    "    i+=1\n",
    "#print(\"New_M12223\",New_M12223[0])"
   ]
  },
  {
   "cell_type": "code",
   "execution_count": 65,
   "metadata": {
    "collapsed": true
   },
   "outputs": [],
   "source": [
    "j = size_of_array\n",
    "i = 0\n",
    "r_40_TE = np.zeros(j, dtype=object)\n",
    "R_40_TE = np.zeros(j, dtype=object)\n",
    "while i < j:\n",
    "    r_40_TE[i] = New_M12223334_40[i][1][0]/New_M12223334_40[i][0][0]\n",
    "    R_40_TE[i] = (np.absolute(r_40_TE[i]))**2\n",
    "    i+=1\n",
    "#print(r_40_TE)\n",
    "#print(R_40_TE)"
   ]
  },
  {
   "cell_type": "code",
   "execution_count": 66,
   "metadata": {
    "collapsed": false
   },
   "outputs": [
    {
     "data": {
      "text/plain": [
       "<matplotlib.text.Text at 0x7a8804deb8>"
      ]
     },
     "execution_count": 66,
     "metadata": {},
     "output_type": "execute_result"
    },
    {
     "data": {
      "image/png": "[encoded data removed]",
      "text/plain": [
       "<matplotlib.figure.Figure at 0x7a87f30668>"
      ]
     },
     "metadata": {},
     "output_type": "display_data"
    }
   ],
   "source": [
    "plt.plot(wavelength, R_40_TE)\n",
    "plt.xlabel(\"wavelength (m)\")\n",
    "plt.ylabel(\"R\")\n",
    "plt.title(\"40 degrees\")"
   ]
  },
  {
   "cell_type": "code",
   "execution_count": 67,
   "metadata": {
    "collapsed": true
   },
   "outputs": [],
   "source": [
    "M12_TE75 = Matrix12(r_TE75air_to_coating1,t_TE75air_to_coating1)\n",
    "#print(\"M12_TE40 = \",M12_TE40)\n",
    "size_of_array = 100\n",
    "wavelength = np.linspace(200*10**-9,1000*10**-9,size_of_array)\n",
    "#print(\"wavelength\",wavelength)\n",
    "#print(\"wavelength =\", wavelength)\n",
    "phi_z_75_a = phi_z(n2,d,theta75_coating1,wavelength)\n",
    "#print(\"phi_z_40 =\", phi_z_40)\n",
    "M2_TE75 = Matrix2_free(phi_z_75_a,size_of_array)\n",
    "#print(\"M2_TE40 =\",M2_TE40)\n",
    "M23_TE75 = Matrix12(r_TE75coating1_to_coating2,t_TE75coating1_to_coating2)\n",
    "#print(\"M23_TE40 =\",M23_TE40)\n",
    "phi_z_75_b = phi_z(n2,d,theta75_coating2,wavelength)\n",
    "M3_TE75 = Matrix2_free(phi_z_75_b,size_of_array)\n",
    "M34_TE75 = Matrix12(r_TE75coating2_to_silicon,t_TE75coating2_to_silicon)"
   ]
  },
  {
   "cell_type": "code",
   "execution_count": 68,
   "metadata": {
    "collapsed": true
   },
   "outputs": [],
   "source": [
    "j = size_of_array\n",
    "i = 0\n",
    "New_M122_75 = np.zeros(j, dtype=object)\n",
    "while i < j:\n",
    "    New_M122_75[i] = np.dot(M12_TE75,M2_TE75[i])\n",
    "    i+=1\n",
    "#print(\"New_M122\",New_M122[2])"
   ]
  },
  {
   "cell_type": "code",
   "execution_count": 69,
   "metadata": {
    "collapsed": true
   },
   "outputs": [],
   "source": [
    "j = size_of_array\n",
    "i = 0\n",
    "New_M12223_75 = np.zeros(j, dtype=object)\n",
    "while i < j:\n",
    "    New_M12223_75[i] = np.dot(New_M122_75[i],M23_TE75)\n",
    "    i+=1\n",
    "#print(\"New_M12223\",New_M12223[0])"
   ]
  },
  {
   "cell_type": "code",
   "execution_count": 70,
   "metadata": {
    "collapsed": true
   },
   "outputs": [],
   "source": [
    "j = size_of_array\n",
    "i = 0\n",
    "New_M122233_75 = np.zeros(j, dtype=object)\n",
    "while i < j:\n",
    "    New_M122233_75[i] = np.dot(New_M12223_75[i],M3_TE75[i])\n",
    "    i+=1\n",
    "#print(\"New_M12223\",New_M12223[0])"
   ]
  },
  {
   "cell_type": "code",
   "execution_count": 71,
   "metadata": {
    "collapsed": true
   },
   "outputs": [],
   "source": [
    "j = size_of_array\n",
    "i = 0\n",
    "New_M12223334_75 = np.zeros(j, dtype=object)\n",
    "while i < j:\n",
    "    New_M12223334_75[i] = np.dot(New_M122233_75[i],M34_TE75)\n",
    "    i+=1\n",
    "#print(\"New_M12223\",New_M12223[0])"
   ]
  },
  {
   "cell_type": "code",
   "execution_count": 72,
   "metadata": {
    "collapsed": true
   },
   "outputs": [],
   "source": [
    "j = size_of_array\n",
    "i = 0\n",
    "r_75_TE = np.zeros(j, dtype=object)\n",
    "R_75_TE = np.zeros(j, dtype=object)\n",
    "while i < j:\n",
    "    r_75_TE[i] = New_M12223334_75[i][1][0]/New_M12223334_75[i][0][0]\n",
    "    R_75_TE[i] = (np.absolute(r_75_TE[i]))**2\n",
    "    i+=1\n",
    "#print(r_40_TE)\n",
    "#print(R_40_TE)"
   ]
  },
  {
   "cell_type": "code",
   "execution_count": 73,
   "metadata": {
    "collapsed": false
   },
   "outputs": [
    {
     "data": {
      "text/plain": [
       "<matplotlib.text.Text at 0x7a880a86d8>"
      ]
     },
     "execution_count": 73,
     "metadata": {},
     "output_type": "execute_result"
    },
    {
     "data": {
      "image/png": "[encoded data removed]",
      "text/plain": [
       "<matplotlib.figure.Figure at 0x7a880a85f8>"
      ]
     },
     "metadata": {},
     "output_type": "display_data"
    }
   ],
   "source": [
    "plt.plot(wavelength, R_75_TE)\n",
    "plt.xlabel(\"wavelength (m)\")\n",
    "plt.ylabel(\"R\")\n",
    "plt.title(\"75 degrees\")"
   ]
  },
  {
   "cell_type": "code",
   "execution_count": 85,
   "metadata": {
    "collapsed": false
   },
   "outputs": [],
   "source": [
    "M12_TE_N_ = Matrix12(r_TE_N_air_to_coating1,t_TE_N_air_to_coating1)\n",
    "#print(\"M12_TE40 = \",M12_TE40)\n",
    "size_of_array = 100\n",
    "wavelength = np.linspace(200*10**-9,1000*10**-9,size_of_array)\n",
    "#print(\"wavelength\",wavelength)\n",
    "#print(\"wavelength =\", wavelength)\n",
    "phi_z__N__a = phi_z(n2,d,theta_N__coating1,wavelength)\n",
    "#print(\"phi_z_40 =\", phi_z_40)\n",
    "M2_TE_N_ = Matrix2_free(phi_z__N__a,size_of_array)\n",
    "#print(\"M2_TE40 =\",M2_TE40)\n",
    "M23_TE_N_ = Matrix12(r_TE_N_coating1_to_coating2,t_TE_N_coating1_to_coating2)\n",
    "#print(\"M23_TE40 =\",M23_TE40)\n",
    "phi_z__N__b = phi_z(n2,d,theta_N__coating2,wavelength)\n",
    "M3_TE_N_ = Matrix2_free(phi_z__N__b,size_of_array)\n",
    "M34_TE_N_ = Matrix12(r_TE_N_coating2_to_silicon,t_TE_N_coating2_to_silicon)"
   ]
  },
  {
   "cell_type": "code",
   "execution_count": 75,
   "metadata": {
    "collapsed": true
   },
   "outputs": [],
   "source": [
    "j = size_of_array\n",
    "i = 0\n",
    "New_M122__N_ = np.zeros(j, dtype=object)\n",
    "while i < j:\n",
    "    New_M122__N_[i] = np.dot(M12_TE_N_,M2_TE_N_[i])\n",
    "    i+=1\n",
    "#print(\"New_M122\",New_M122[2])"
   ]
  },
  {
   "cell_type": "code",
   "execution_count": 76,
   "metadata": {
    "collapsed": true
   },
   "outputs": [],
   "source": [
    "j = size_of_array\n",
    "i = 0\n",
    "New_M12223__N_ = np.zeros(j, dtype=object)\n",
    "while i < j:\n",
    "    New_M12223__N_[i] = np.dot(New_M122__N_[i],M23_TE_N_)\n",
    "    i+=1\n",
    "#print(\"New_M12223\",New_M12223[0])"
   ]
  },
  {
   "cell_type": "code",
   "execution_count": 77,
   "metadata": {
    "collapsed": true
   },
   "outputs": [],
   "source": [
    "j = size_of_array\n",
    "i = 0\n",
    "New_M122233__N_ = np.zeros(j, dtype=object)\n",
    "while i < j:\n",
    "    New_M122233__N_[i] = np.dot(New_M12223__N_[i],M3_TE_N_[i])\n",
    "    i+=1\n",
    "#print(\"New_M12223\",New_M12223[0])"
   ]
  },
  {
   "cell_type": "code",
   "execution_count": 78,
   "metadata": {
    "collapsed": true
   },
   "outputs": [],
   "source": [
    "j = size_of_array\n",
    "i = 0\n",
    "New_M12223334__N_ = np.zeros(j, dtype=object)\n",
    "while i < j:\n",
    "    New_M12223334__N_[i] = np.dot(New_M122233__N_[i],M34_TE_N_)\n",
    "    i+=1\n",
    "#print(\"New_M12223\",New_M12223[0])"
   ]
  },
  {
   "cell_type": "code",
   "execution_count": 79,
   "metadata": {
    "collapsed": true
   },
   "outputs": [],
   "source": [
    "j = size_of_array\n",
    "i = 0\n",
    "r__N__TE = np.zeros(j, dtype=object)\n",
    "R__N__TE = np.zeros(j, dtype=object)\n",
    "while i < j:\n",
    "    r__N__TE[i] = New_M12223334__N_[i][1][0]/New_M12223334__N_[i][0][0]\n",
    "    R__N__TE[i] = (np.absolute(r__N__TE[i]))**2\n",
    "    i+=1\n",
    "#print(r_40_TE)\n",
    "#print(R_40_TE)"
   ]
  },
  {
   "cell_type": "code",
   "execution_count": 80,
   "metadata": {
    "collapsed": false
   },
   "outputs": [
    {
     "data": {
      "text/plain": [
       "<matplotlib.text.Text at 0x7a88125cf8>"
      ]
     },
     "execution_count": 80,
     "metadata": {},
     "output_type": "execute_result"
    },
    {
     "data": {
      "image/png": "[encoded data removed]",
      "text/plain": [
       "<matplotlib.figure.Figure at 0x7a88116240>"
      ]
     },
     "metadata": {},
     "output_type": "display_data"
    }
   ],
   "source": [
    "plt.plot(wavelength, R__N__TE)\n",
    "plt.xlabel(\"wavelength (m)\")\n",
    "plt.ylabel(\"R\")\n",
    "plt.title(\"0 degrees\")"
   ]
  },
  {
   "cell_type": "code",
   "execution_count": 81,
   "metadata": {
    "collapsed": false
   },
   "outputs": [
    {
     "data": {
      "text/plain": [
       "<matplotlib.text.Text at 0x7a8818dbe0>"
      ]
     },
     "execution_count": 81,
     "metadata": {},
     "output_type": "execute_result"
    },
    {
     "data": {
      "image/png": "[encoded data removed]",
      "text/plain": [
       "<matplotlib.figure.Figure at 0x7a8807fa20>"
      ]
     },
     "metadata": {},
     "output_type": "display_data"
    }
   ],
   "source": [
    "plt.plot(wavelength, R__N__TE, color='r', label=\"0 degrees\")\n",
    "plt.plot(wavelength, R_40_TE, color='b', label=\"40 degrees\")\n",
    "plt.plot(wavelength, R_75_TE, color='g', label=\"75 degrees\")\n",
    "plt.xlabel(\"wavelength (m)\")\n",
    "plt.ylabel(\"R\")\n",
    "plt.legend(loc=1)\n",
    "plt.title(\"0, 40, and 75 degrees\")"
   ]
  },
  {
   "cell_type": "code",
   "execution_count": null,
   "metadata": {
    "collapsed": true
   },
   "outputs": [],
   "source": []
  },
  {
   "cell_type": "code",
   "execution_count": null,
   "metadata": {
    "collapsed": true
   },
   "outputs": [],
   "source": []
  }
 ],
 "metadata": {
  "anaconda-cloud": {},
  "kernelspec": {
   "display_name": "Python [Root]",
   "language": "python",
   "name": "Python [Root]"
  },
  "language_info": {
   "codemirror_mode": {
    "name": "ipython",
    "version": 3
   },
   "file_extension": ".py",
   "mimetype": "text/x-python",
   "name": "python",
   "nbconvert_exporter": "python",
   "pygments_lexer": "ipython3",
   "version": "3.5.2"
  }
 },
 "nbformat": 4,
 "nbformat_minor": 0
}
