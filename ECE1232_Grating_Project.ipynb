{
 "cells": [
  {
   "cell_type": "markdown",
   "metadata": {},
   "source": [
    "# ECE1232 Grating Project - Mark Jordan"
   ]
  },
  {
   "cell_type": "code",
   "execution_count": 1,
   "metadata": {
    "collapsed": true
   },
   "outputs": [],
   "source": [
    "# This code was written by Mark Jordan\n",
    "# last modified 3/1/2018"
   ]
  },
  {
   "cell_type": "code",
   "execution_count": 2,
   "metadata": {
    "collapsed": false
   },
   "outputs": [],
   "source": [
    "%matplotlib inline\n",
    "import matplotlib.pyplot as plt\n",
    "import numpy as np"
   ]
  },
  {
   "cell_type": "markdown",
   "metadata": {},
   "source": [
    "## Problem 1"
   ]
  },
  {
   "cell_type": "code",
   "execution_count": 3,
   "metadata": {
    "collapsed": true
   },
   "outputs": [],
   "source": [
    "n1 = 1.5\n",
    "delta_n1 = .1*10**(-4)\n",
    "delta_n2 = 2*10**(-4)\n",
    "delta_n3 = 5*10**(-4)\n",
    "delta_n4 = 10*10**(-4)"
   ]
  },
  {
   "cell_type": "code",
   "execution_count": 4,
   "metadata": {
    "collapsed": true
   },
   "outputs": [],
   "source": [
    "def find_n2(n1,delta_n):\n",
    "    n2 = n1+delta_n\n",
    "    return n2"
   ]
  },
  {
   "cell_type": "code",
   "execution_count": 5,
   "metadata": {
    "collapsed": true
   },
   "outputs": [],
   "source": [
    "n2_1 = find_n2(n1,delta_n1)\n",
    "n2_2 = find_n2(n1,delta_n2)\n",
    "n2_3 = find_n2(n1,delta_n3)\n",
    "n2_4 = find_n2(n1,delta_n4)\n",
    "theta = 0"
   ]
  },
  {
   "cell_type": "code",
   "execution_count": 6,
   "metadata": {
    "collapsed": true
   },
   "outputs": [],
   "source": [
    "def r_TE(n1,n3,thetai, thetat):\n",
    "    r_te = (n1*np.cos(thetai)-n3*np.cos(thetat))/(n1*np.cos(thetai)+n3*np.cos(thetat))\n",
    "    return r_te"
   ]
  },
  {
   "cell_type": "code",
   "execution_count": 7,
   "metadata": {
    "collapsed": true
   },
   "outputs": [],
   "source": [
    "def t_TE(n1,n3,thetai, thetat):\n",
    "    t_te = (2*n1*np.cos(thetai))/(n1*np.cos(thetai)+n3*np.cos(thetat))\n",
    "    return t_te"
   ]
  },
  {
   "cell_type": "code",
   "execution_count": 8,
   "metadata": {
    "collapsed": true
   },
   "outputs": [],
   "source": [
    "def finding_R(r):\n",
    "    R = np.absolute(r)**2\n",
    "    return R"
   ]
  },
  {
   "cell_type": "code",
   "execution_count": 9,
   "metadata": {
    "collapsed": true
   },
   "outputs": [],
   "source": [
    "r_12_1 = r_TE(n1,n2_1,theta,theta)\n",
    "r_21_1 = r_TE(n2_1,n1,theta,theta)\n",
    "\n",
    "r_12_2 = r_TE(n1,n2_2,theta,theta)\n",
    "r_21_2 = r_TE(n2_2,n1,theta,theta)\n",
    "\n",
    "r_12_3 = r_TE(n1,n2_3,theta,theta)\n",
    "r_21_3 = r_TE(n2_3,n1,theta,theta)\n",
    "\n",
    "r_12_4 = r_TE(n1,n2_4,theta,theta)\n",
    "r_21_4 = r_TE(n2_4,n1,theta,theta)"
   ]
  },
  {
   "cell_type": "code",
   "execution_count": 10,
   "metadata": {
    "collapsed": false
   },
   "outputs": [
    {
     "name": "stdout",
     "output_type": "stream",
     "text": [
      "[[ -3.33332222e-06]\n",
      " [ -6.66622225e-05]\n",
      " [ -1.66638894e-04]\n",
      " [ -3.33222259e-04]]\n"
     ]
    }
   ],
   "source": [
    "r_12_array = np.array([[r_12_1],[r_12_2],[r_12_3],[r_12_4]])\n",
    "print(r_12_array)"
   ]
  },
  {
   "cell_type": "code",
   "execution_count": 11,
   "metadata": {
    "collapsed": false
   },
   "outputs": [
    {
     "name": "stdout",
     "output_type": "stream",
     "text": [
      "[[  3.33332222e-06]\n",
      " [  6.66622225e-05]\n",
      " [  1.66638894e-04]\n",
      " [  3.33222259e-04]]\n"
     ]
    }
   ],
   "source": [
    "r_21_array = np.array([[r_21_1],[r_21_2],[r_21_3],[r_21_4]])\n",
    "print(r_21_array)"
   ]
  },
  {
   "cell_type": "code",
   "execution_count": 12,
   "metadata": {
    "collapsed": true
   },
   "outputs": [],
   "source": [
    "t_12_1 = t_TE(n1,n2_1,theta,theta)\n",
    "t_21_1 = t_TE(n2_1,n1,theta,theta)\n",
    "\n",
    "t_12_2 = t_TE(n1,n2_2,theta,theta)\n",
    "t_21_2 = t_TE(n2_2,n1,theta,theta)\n",
    "\n",
    "t_12_3 = t_TE(n1,n2_3,theta,theta)\n",
    "t_21_3 = t_TE(n2_3,n1,theta,theta)\n",
    "\n",
    "t_12_4 = t_TE(n1,n2_4,theta,theta)\n",
    "t_21_4 = t_TE(n2_4,n1,theta,theta)"
   ]
  },
  {
   "cell_type": "code",
   "execution_count": 13,
   "metadata": {
    "collapsed": false
   },
   "outputs": [
    {
     "name": "stdout",
     "output_type": "stream",
     "text": [
      "[[ 0.99999667]\n",
      " [ 0.99993334]\n",
      " [ 0.99983336]\n",
      " [ 0.99966678]]\n"
     ]
    }
   ],
   "source": [
    "t_12_array = np.array([[t_12_1],[t_12_2],[t_12_3],[t_12_4]])\n",
    "print(t_12_array)"
   ]
  },
  {
   "cell_type": "code",
   "execution_count": 14,
   "metadata": {
    "collapsed": false
   },
   "outputs": [
    {
     "name": "stdout",
     "output_type": "stream",
     "text": [
      "[[ 1.00000333]\n",
      " [ 1.00006666]\n",
      " [ 1.00016664]\n",
      " [ 1.00033322]]\n"
     ]
    }
   ],
   "source": [
    "t_21_array = np.array([[t_21_1],[t_21_2],[t_21_3],[t_21_4]])\n",
    "print(t_21_array)"
   ]
  },
  {
   "cell_type": "code",
   "execution_count": 15,
   "metadata": {
    "collapsed": true
   },
   "outputs": [],
   "source": [
    "def Matrix12(r,t):\n",
    "    M12 = (1/t)*np.array([[1,r],[r,1]])\n",
    "    return M12\n",
    "def Matrix2_free(phi_z,size_of_array):\n",
    "    j = size_of_array\n",
    "    i = 0\n",
    "    M2_free = np.zeros(j, dtype=object)\n",
    "    #print(\"M2_free\",M2_free)\n",
    "    while i < j:\n",
    "        M2_free[i] = np.array([[np.exp(phi_z[i]*1j),0],[0,np.exp(phi_z[i]*(-1j))]])\n",
    "        i+=1\n",
    "    #M2_free = np.array([[np.exp(phi_z*1j),0],[0,np.exp(phi_z*(-1j))]])\n",
    "    return M2_free\n",
    "def phi_z(n,d,theta,lambda_wavelength):\n",
    "    phi = 2*np.pi*n*d*np.cos(theta)/lambda_wavelength\n",
    "    return phi"
   ]
  },
  {
   "cell_type": "code",
   "execution_count": 16,
   "metadata": {
    "collapsed": true
   },
   "outputs": [],
   "source": [
    "period_length = 1*10**(-6)\n",
    "d = period_length/2\n",
    "size_of_array = 10000\n",
    "wavelength = np.linspace(2800*10**-9,3200*10**-9,size_of_array)"
   ]
  },
  {
   "cell_type": "code",
   "execution_count": 17,
   "metadata": {
    "collapsed": false
   },
   "outputs": [
    {
     "name": "stdout",
     "output_type": "stream",
     "text": [
      "1.6830072844\n"
     ]
    }
   ],
   "source": [
    "phi_z_1 = phi_z(n1,d,theta,wavelength)\n",
    "phi_z_2_1 = phi_z(n2_1,d,theta,wavelength)\n",
    "phi_z_2_2 = phi_z(n2_2,d,theta,wavelength)\n",
    "phi_z_2_3 = phi_z(n2_3,d,theta,wavelength)\n",
    "phi_z_2_4 = phi_z(n2_4,d,theta,wavelength)\n",
    "phi_z_2_array = np.zeros(4, dtype=object)\n",
    "phi_z_2_array[0] = phi_z_2_1\n",
    "phi_z_2_array[1] = phi_z_2_2\n",
    "phi_z_2_array[2] = phi_z_2_3\n",
    "phi_z_2_array[3] = phi_z_2_4\n",
    "print(phi_z_2_array[0][0])"
   ]
  },
  {
   "cell_type": "markdown",
   "metadata": {},
   "source": [
    "### start repeating below this"
   ]
  },
  {
   "cell_type": "code",
   "execution_count": 18,
   "metadata": {
    "collapsed": false
   },
   "outputs": [
    {
     "name": "stdout",
     "output_type": "stream",
     "text": [
      "[[ -1.11975999e-01 +9.93714266e-01j   3.73252085e-07 +3.31236985e-06j]\n",
      " [  3.73252085e-07 -3.31236985e-06j  -1.11975999e-01 -9.93714266e-01j]]\n"
     ]
    }
   ],
   "source": [
    "M12 = Matrix12(r_12_array[0],t_12_array[0])\n",
    "M2 = Matrix2_free(phi_z_2_array[0],size_of_array)\n",
    "M21 = Matrix12(r_21_array[0],t_21_array[0])\n",
    "M1 = Matrix2_free(phi_z_1,size_of_array)\n",
    "#print(M12)\n",
    "#print(M2[0])\n",
    "A = np.dot(M12,M2[0])\n",
    "#print(np.dot(M12,M2[0]))\n",
    "print(A)"
   ]
  },
  {
   "cell_type": "code",
   "execution_count": 19,
   "metadata": {
    "collapsed": false
   },
   "outputs": [
    {
     "name": "stdout",
     "output_type": "stream",
     "text": [
      "[[ -1.11975999e-01 +9.93714266e-01j   3.73252085e-07 +3.31236985e-06j]\n",
      " [  3.73252085e-07 -3.31236985e-06j  -1.11975999e-01 -9.93714266e-01j]]\n"
     ]
    }
   ],
   "source": [
    "j = size_of_array\n",
    "i = 0\n",
    "M122 = np.zeros(j, dtype=object)\n",
    "while i < j:\n",
    "    M122[i] = np.dot(M12,M2[i])\n",
    "    i+=1\n",
    "#print(M122)\n",
    "print(M122[0])"
   ]
  },
  {
   "cell_type": "code",
   "execution_count": 20,
   "metadata": {
    "collapsed": false
   },
   "outputs": [],
   "source": [
    "j = size_of_array\n",
    "i = 0\n",
    "M12221 = np.zeros(j, dtype=object)\n",
    "while i < j:\n",
    "    M12221[i] = np.dot(M122[i],M21)\n",
    "    i+=1"
   ]
  },
  {
   "cell_type": "code",
   "execution_count": 21,
   "metadata": {
    "collapsed": true
   },
   "outputs": [],
   "source": [
    "j = size_of_array\n",
    "i = 0\n",
    "M122211 = np.zeros(j, dtype=object)\n",
    "while i < j:\n",
    "    M122211[i] = np.dot(M12221[i],M1[i])\n",
    "    i+=1"
   ]
  },
  {
   "cell_type": "code",
   "execution_count": 22,
   "metadata": {
    "collapsed": false
   },
   "outputs": [
    {
     "name": "stdout",
     "output_type": "stream",
     "text": [
      "[[ -9.74925415e-01 -2.22531873e-01j   6.58306277e-06 -7.41733036e-07j]\n",
      " [  6.58306277e-06 +7.41733036e-07j  -9.74925415e-01 +2.22531873e-01j]]\n",
      "[[ -9.74925415e-01 -2.22531873e-01j   6.58306277e-06 -7.41733036e-07j]\n",
      " [  6.58306277e-06 +7.41733036e-07j  -9.74925415e-01 +2.22531873e-01j]]\n",
      "[[  5.32032911e-01 +8.46723675e-01j  -2.50482551e-05 +2.82226054e-06j]\n",
      " [ -2.50482551e-05 -2.82226054e-06j   5.32032911e-01 -8.46723675e-01j]]\n",
      "[[ -9.74925415e-01 -2.22531873e-01j   6.58306277e-06 -7.41733036e-07j]\n",
      " [  6.58306277e-06 +7.41733036e-07j  -9.74925415e-01 +2.22531873e-01j]]\n"
     ]
    }
   ],
   "source": [
    "M_period = M122211\n",
    "M_temp = np.copy(M_period)\n",
    "print(M_period[0])\n",
    "print(M_temp[0])\n",
    "number_of_periods = 10000\n",
    "i = 0\n",
    "j = number_of_periods-1\n",
    "while i < j:\n",
    "    k = 0\n",
    "    m = size_of_array\n",
    "    while k < m:\n",
    "        M_temp[k] = np.dot(M_temp[k],M_period[k])\n",
    "        k+=1\n",
    "    i+=1\n",
    "    #print(i)\n",
    "print(M_temp[0])\n",
    "print(M_period[0])"
   ]
  },
  {
   "cell_type": "code",
   "execution_count": 23,
   "metadata": {
    "collapsed": false
   },
   "outputs": [],
   "source": [
    "j = size_of_array\n",
    "i = 0\n",
    "r_total1 = np.zeros(j, dtype=object)\n",
    "R_total1 = np.zeros(j, dtype=object)\n",
    "while i < j:\n",
    "    r_total1[i] = M_temp[i][1][0]/M_temp[i][0][0]\n",
    "    R_total1[i] = (np.absolute(r_total1[i]))**2\n",
    "    i+=1"
   ]
  },
  {
   "cell_type": "code",
   "execution_count": 52,
   "metadata": {
    "collapsed": false
   },
   "outputs": [
    {
     "data": {
      "text/plain": [
       "<matplotlib.text.Text at 0x58a105dd30>"
      ]
     },
     "execution_count": 52,
     "metadata": {},
     "output_type": "execute_result"
    },
    {
     "data": {
      "image/png": "[encoded data removed]",
      "text/plain": [
       "<matplotlib.figure.Figure at 0x58a21cfc88>"
      ]
     },
     "metadata": {},
     "output_type": "display_data"
    }
   ],
   "source": [
    "plt.plot(wavelength, R_total1)\n",
    "plt.xlabel(\"wavelength (m)\")\n",
    "plt.ylabel(\"R\")\n",
    "plt.title(\"Delta n = .1*10^-4\")"
   ]
  },
  {
   "cell_type": "code",
   "execution_count": 107,
   "metadata": {
    "collapsed": false
   },
   "outputs": [
    {
     "data": {
      "text/plain": [
       "[2997, 3005, 0, 1]"
      ]
     },
     "execution_count": 107,
     "metadata": {},
     "output_type": "execute_result"
    },
    {
     "data": {
      "image/png": "[encoded data removed]",
      "text/plain": [
       "<matplotlib.figure.Figure at 0x58a37d8908>"
      ]
     },
     "metadata": {},
     "output_type": "display_data"
    }
   ],
   "source": [
    "plt.plot(wavelength*10**9, R_total1*10**3)\n",
    "plt.xlabel(\"wavelength (m)\")\n",
    "plt.ylabel(\"R\")\n",
    "plt.title(\"Delta n = .1*10^-4\")\n",
    "plt.axis([2997,3005,0,1])"
   ]
  },
  {
   "cell_type": "code",
   "execution_count": 62,
   "metadata": {
    "collapsed": true
   },
   "outputs": [],
   "source": [
    "j = size_of_array\n",
    "i = 0\n",
    "t_total1 = np.zeros(j, dtype=object)\n",
    "T_total1 = np.zeros(j, dtype=object)\n",
    "while i < j:\n",
    "    t_total1[i] = 1/M_temp[i][0][0]\n",
    "    T_total1[i] = (np.absolute(t_total1[i]))**2\n",
    "    i+=1"
   ]
  },
  {
   "cell_type": "code",
   "execution_count": 63,
   "metadata": {
    "collapsed": false
   },
   "outputs": [
    {
     "data": {
      "text/plain": [
       "<matplotlib.text.Text at 0x58a24d1a58>"
      ]
     },
     "execution_count": 63,
     "metadata": {},
     "output_type": "execute_result"
    },
    {
     "data": {
      "image/png": "[encoded data removed]",
      "text/plain": [
       "<matplotlib.figure.Figure at 0x58a24908d0>"
      ]
     },
     "metadata": {},
     "output_type": "display_data"
    }
   ],
   "source": [
    "plt.plot(wavelength*10**9, T_total1)\n",
    "plt.xlabel(\"wavelength (nm)\")\n",
    "plt.ylabel(\"T\")\n",
    "#plt.title(\"Delta n = .1*10^-4\")"
   ]
  },
  {
   "cell_type": "code",
   "execution_count": 74,
   "metadata": {
    "collapsed": false
   },
   "outputs": [
    {
     "data": {
      "text/plain": [
       "[2997, 3005, 0, 1]"
      ]
     },
     "execution_count": 74,
     "metadata": {},
     "output_type": "execute_result"
    },
    {
     "data": {
      "image/png": "[encoded data removed]",
      "text/plain": [
       "<matplotlib.figure.Figure at 0x58a263a470>"
      ]
     },
     "metadata": {},
     "output_type": "display_data"
    }
   ],
   "source": [
    "plt.plot(wavelength*10**9, T_total1)\n",
    "plt.xlabel(\"wavelength (m)\")\n",
    "plt.ylabel(\"T\")\n",
    "plt.title(\"Delta n = .1*10^-4\")\n",
    "plt.axis([2997,3005,0,1])"
   ]
  },
  {
   "cell_type": "code",
   "execution_count": 76,
   "metadata": {
    "collapsed": false
   },
   "outputs": [
    {
     "name": "stdout",
     "output_type": "stream",
     "text": [
      "[[ -1.12194941e-01 +9.93753306e-01j   7.47916412e-06 +6.62458040e-05j]\n",
      " [  7.47916412e-06 -6.62458040e-05j  -1.12194941e-01 -9.93753306e-01j]]\n"
     ]
    }
   ],
   "source": [
    "M12 = Matrix12(r_12_array[1],t_12_array[1])\n",
    "M2 = Matrix2_free(phi_z_2_array[1],size_of_array)\n",
    "M21 = Matrix12(r_21_array[1],t_21_array[1])\n",
    "M1 = Matrix2_free(phi_z_1,size_of_array)\n",
    "#print(M12)\n",
    "#print(M2[0])\n",
    "A = np.dot(M12,M2[0])\n",
    "#print(np.dot(M12,M2[0]))\n",
    "print(A)"
   ]
  },
  {
   "cell_type": "code",
   "execution_count": 77,
   "metadata": {
    "collapsed": false
   },
   "outputs": [
    {
     "name": "stdout",
     "output_type": "stream",
     "text": [
      "[[ -1.12194941e-01 +9.93753306e-01j   7.47916412e-06 +6.62458040e-05j]\n",
      " [  7.47916412e-06 -6.62458040e-05j  -1.12194941e-01 -9.93753306e-01j]]\n"
     ]
    }
   ],
   "source": [
    "j = size_of_array\n",
    "i = 0\n",
    "M122 = np.zeros(j, dtype=object)\n",
    "while i < j:\n",
    "    M122[i] = np.dot(M12,M2[i])\n",
    "    i+=1\n",
    "#print(M122)\n",
    "print(M122[0])"
   ]
  },
  {
   "cell_type": "code",
   "execution_count": 78,
   "metadata": {
    "collapsed": true
   },
   "outputs": [],
   "source": [
    "j = size_of_array\n",
    "i = 0\n",
    "M12221 = np.zeros(j, dtype=object)\n",
    "while i < j:\n",
    "    M12221[i] = np.dot(M122[i],M21)\n",
    "    i+=1"
   ]
  },
  {
   "cell_type": "code",
   "execution_count": 79,
   "metadata": {
    "collapsed": true
   },
   "outputs": [],
   "source": [
    "j = size_of_array\n",
    "i = 0\n",
    "M122211 = np.zeros(j, dtype=object)\n",
    "while i < j:\n",
    "    M122211[i] = np.dot(M12221[i],M1[i])\n",
    "    i+=1"
   ]
  },
  {
   "cell_type": "code",
   "execution_count": 80,
   "metadata": {
    "collapsed": false
   },
   "outputs": [
    {
     "name": "stdout",
     "output_type": "stream",
     "text": [
      "[[ -9.99999922e-01 +3.94005524e-04j  -2.32875994e-07 +2.62388229e-08j]\n",
      " [ -2.32875994e-07 -2.62388229e-08j  -9.99999922e-01 -3.94005524e-04j]]\n"
     ]
    }
   ],
   "source": [
    "M_period = M122211\n",
    "M_temp = np.copy(M_period)\n",
    "i = 0\n",
    "j = number_of_periods-1\n",
    "while i < j:\n",
    "    k = 0\n",
    "    m = size_of_array\n",
    "    while k < m:\n",
    "        M_temp[k] = np.dot(M_temp[k],M_period[k])\n",
    "        k+=1\n",
    "    i+=1\n",
    "print(M_temp[0])"
   ]
  },
  {
   "cell_type": "code",
   "execution_count": 81,
   "metadata": {
    "collapsed": true
   },
   "outputs": [],
   "source": [
    "j = size_of_array\n",
    "i = 0\n",
    "r_total2 = np.zeros(j, dtype=object)\n",
    "R_total2 = np.zeros(j, dtype=object)\n",
    "while i < j:\n",
    "    r_total2[i] = M_temp[i][1][0]/M_temp[i][0][0]\n",
    "    R_total2[i] = (np.absolute(r_total2[i]))**2\n",
    "    i+=1"
   ]
  },
  {
   "cell_type": "code",
   "execution_count": 82,
   "metadata": {
    "collapsed": false
   },
   "outputs": [
    {
     "data": {
      "text/plain": [
       "<matplotlib.text.Text at 0x58a260ff98>"
      ]
     },
     "execution_count": 82,
     "metadata": {},
     "output_type": "execute_result"
    },
    {
     "data": {
      "image/png": "[encoded data removed]",
      "text/plain": [
       "<matplotlib.figure.Figure at 0x58a2629dd8>"
      ]
     },
     "metadata": {},
     "output_type": "display_data"
    }
   ],
   "source": [
    "plt.plot(wavelength, R_total2)\n",
    "plt.xlabel(\"wavelength (m)\")\n",
    "plt.ylabel(\"R\")\n",
    "plt.title(\"Delta n = 2*10^-4\")"
   ]
  },
  {
   "cell_type": "code",
   "execution_count": 87,
   "metadata": {
    "collapsed": false
   },
   "outputs": [
    {
     "data": {
      "text/plain": [
       "[2997, 3005, 0, 1]"
      ]
     },
     "execution_count": 87,
     "metadata": {},
     "output_type": "execute_result"
    },
    {
     "data": {
      "image/png": "[encoded data removed]",
      "text/plain": [
       "<matplotlib.figure.Figure at 0x58a21d3320>"
      ]
     },
     "metadata": {},
     "output_type": "display_data"
    }
   ],
   "source": [
    "plt.plot(wavelength*10**9, R_total2)\n",
    "plt.xlabel(\"wavelength (m)\")\n",
    "plt.ylabel(\"R\")\n",
    "plt.title(\"Delta n = 2*10^-4\")\n",
    "plt.axis([2997,3005,0,1])"
   ]
  },
  {
   "cell_type": "code",
   "execution_count": 88,
   "metadata": {
    "collapsed": true
   },
   "outputs": [],
   "source": [
    "j = size_of_array\n",
    "i = 0\n",
    "t_total2 = np.zeros(j, dtype=object)\n",
    "T_total2 = np.zeros(j, dtype=object)\n",
    "while i < j:\n",
    "    t_total2[i] = 1/M_temp[i][0][0]\n",
    "    T_total2[i] = (np.absolute(t_total2[i]))**2\n",
    "    i+=1"
   ]
  },
  {
   "cell_type": "code",
   "execution_count": 89,
   "metadata": {
    "collapsed": false
   },
   "outputs": [
    {
     "data": {
      "text/plain": [
       "<matplotlib.text.Text at 0x58a263f668>"
      ]
     },
     "execution_count": 89,
     "metadata": {},
     "output_type": "execute_result"
    },
    {
     "data": {
      "image/png": "[encoded data removed]",
      "text/plain": [
       "<matplotlib.figure.Figure at 0x58a261f588>"
      ]
     },
     "metadata": {},
     "output_type": "display_data"
    }
   ],
   "source": [
    "plt.plot(wavelength*10**9, T_total2)\n",
    "plt.xlabel(\"wavelength (nm)\")\n",
    "plt.ylabel(\"T\")\n",
    "plt.title(\"Delta n = 2*10^-4\")"
   ]
  },
  {
   "cell_type": "code",
   "execution_count": 90,
   "metadata": {
    "collapsed": false
   },
   "outputs": [
    {
     "data": {
      "text/plain": [
       "[2997, 3005, 0, 1]"
      ]
     },
     "execution_count": 90,
     "metadata": {},
     "output_type": "execute_result"
    },
    {
     "data": {
      "image/png": "[encoded data removed]",
      "text/plain": [
       "<matplotlib.figure.Figure at 0x58a263e208>"
      ]
     },
     "metadata": {},
     "output_type": "display_data"
    }
   ],
   "source": [
    "plt.plot(wavelength*10**9, T_total2)\n",
    "plt.xlabel(\"wavelength (m)\")\n",
    "plt.ylabel(\"T\")\n",
    "plt.title(\"Delta n = .1*10^-4\")\n",
    "plt.axis([2997,3005,0,1])"
   ]
  },
  {
   "cell_type": "code",
   "execution_count": 91,
   "metadata": {
    "collapsed": false
   },
   "outputs": [
    {
     "name": "stdout",
     "output_type": "stream",
     "text": [
      "[[ -1.12540683e-01 +9.93814850e-01j   1.87536550e-05 +1.65608207e-04j]\n",
      " [  1.87536550e-05 -1.65608207e-04j  -1.12540683e-01 -9.93814850e-01j]]\n",
      "[[ -1.12540683e-01 +9.93814850e-01j   1.87536550e-05 +1.65608207e-04j]\n",
      " [  1.87536550e-05 -1.65608207e-04j  -1.12540683e-01 -9.93814850e-01j]]\n",
      "[[  9.75471995e-01 +2.20123814e-01j  -3.24735810e-04 +3.65889384e-05j]\n",
      " [ -3.24735810e-04 -3.65889384e-05j   9.75471995e-01 -2.20123814e-01j]]\n"
     ]
    },
    {
     "data": {
      "text/plain": [
       "<matplotlib.text.Text at 0x58a258e278>"
      ]
     },
     "execution_count": 91,
     "metadata": {},
     "output_type": "execute_result"
    },
    {
     "data": {
      "image/png": "[encoded data removed]",
      "text/plain": [
       "<matplotlib.figure.Figure at 0x58a251dfd0>"
      ]
     },
     "metadata": {},
     "output_type": "display_data"
    }
   ],
   "source": [
    "M12 = Matrix12(r_12_array[2],t_12_array[2])\n",
    "M2 = Matrix2_free(phi_z_2_array[2],size_of_array)\n",
    "M21 = Matrix12(r_21_array[2],t_21_array[2])\n",
    "M1 = Matrix2_free(phi_z_1,size_of_array)\n",
    "#print(M12)\n",
    "#print(M2[0])\n",
    "A = np.dot(M12,M2[0])\n",
    "#print(np.dot(M12,M2[0]))\n",
    "print(A)\n",
    "\n",
    "j = size_of_array\n",
    "i = 0\n",
    "M122 = np.zeros(j, dtype=object)\n",
    "while i < j:\n",
    "    M122[i] = np.dot(M12,M2[i])\n",
    "    i+=1\n",
    "#print(M122)\n",
    "print(M122[0])\n",
    "\n",
    "j = size_of_array\n",
    "i = 0\n",
    "M12221 = np.zeros(j, dtype=object)\n",
    "while i < j:\n",
    "    M12221[i] = np.dot(M122[i],M21)\n",
    "    i+=1\n",
    "    \n",
    "j = size_of_array\n",
    "i = 0\n",
    "M122211 = np.zeros(j, dtype=object)\n",
    "while i < j:\n",
    "    M122211[i] = np.dot(M12221[i],M1[i])\n",
    "    i+=1\n",
    "    \n",
    "M_period = M122211\n",
    "M_temp = np.copy(M_period)\n",
    "i = 0\n",
    "j = number_of_periods-1\n",
    "while i < j:\n",
    "    k = 0\n",
    "    m = size_of_array\n",
    "    while k < m:\n",
    "        M_temp[k] = np.dot(M_temp[k],M_period[k])\n",
    "        k+=1\n",
    "    i+=1\n",
    "print(M_temp[0])\n",
    "\n",
    "j = size_of_array\n",
    "i = 0\n",
    "r_total3 = np.zeros(j, dtype=object)\n",
    "R_total3 = np.zeros(j, dtype=object)\n",
    "while i < j:\n",
    "    r_total3[i] = M_temp[i][1][0]/M_temp[i][0][0]\n",
    "    R_total3[i] = (np.absolute(r_total3[i]))**2\n",
    "    i+=1\n",
    "    \n",
    "plt.plot(wavelength, R_total3)\n",
    "plt.xlabel(\"wavelength (m)\")\n",
    "plt.ylabel(\"R\")\n",
    "plt.title(\"Delta n = 5*10^-4\")"
   ]
  },
  {
   "cell_type": "code",
   "execution_count": 94,
   "metadata": {
    "collapsed": false
   },
   "outputs": [
    {
     "data": {
      "text/plain": [
       "[2997, 3005, 0, 1]"
      ]
     },
     "execution_count": 94,
     "metadata": {},
     "output_type": "execute_result"
    },
    {
     "data": {
      "image/png": "[encoded data removed]",
      "text/plain": [
       "<matplotlib.figure.Figure at 0x58a3746898>"
      ]
     },
     "metadata": {},
     "output_type": "display_data"
    }
   ],
   "source": [
    "plt.plot(wavelength*10**9, R_total3)\n",
    "plt.xlabel(\"wavelength (nm)\")\n",
    "plt.ylabel(\"R\")\n",
    "plt.title(\"Delta n = 5*10^-4\")\n",
    "plt.axis([2997,3005,0,1])"
   ]
  },
  {
   "cell_type": "code",
   "execution_count": 95,
   "metadata": {
    "collapsed": true
   },
   "outputs": [],
   "source": [
    "j = size_of_array\n",
    "i = 0\n",
    "t_total3 = np.zeros(j, dtype=object)\n",
    "T_total3 = np.zeros(j, dtype=object)\n",
    "while i < j:\n",
    "    t_total3[i] = 1/M_temp[i][0][0]\n",
    "    T_total3[i] = (np.absolute(t_total3[i]))**2\n",
    "    i+=1"
   ]
  },
  {
   "cell_type": "code",
   "execution_count": 96,
   "metadata": {
    "collapsed": false
   },
   "outputs": [
    {
     "data": {
      "text/plain": [
       "<matplotlib.text.Text at 0x58a0fbc748>"
      ]
     },
     "execution_count": 96,
     "metadata": {},
     "output_type": "execute_result"
    },
    {
     "data": {
      "image/png": "[encoded data removed]",
      "text/plain": [
       "<matplotlib.figure.Figure at 0x58a23f6748>"
      ]
     },
     "metadata": {},
     "output_type": "display_data"
    }
   ],
   "source": [
    "plt.plot(wavelength*10**9, T_total3)\n",
    "plt.xlabel(\"wavelength (nm)\")\n",
    "plt.ylabel(\"T\")\n",
    "plt.title(\"Delta n = 5*10^-4\")"
   ]
  },
  {
   "cell_type": "code",
   "execution_count": 97,
   "metadata": {
    "collapsed": false
   },
   "outputs": [
    {
     "data": {
      "text/plain": [
       "[2997, 3005, 0, 1]"
      ]
     },
     "execution_count": 97,
     "metadata": {},
     "output_type": "execute_result"
    },
    {
     "data": {
      "image/png": "[encoded data removed]",
      "text/plain": [
       "<matplotlib.figure.Figure at 0x58a2418e10>"
      ]
     },
     "metadata": {},
     "output_type": "display_data"
    }
   ],
   "source": [
    "plt.plot(wavelength*10**9, T_total3)\n",
    "plt.xlabel(\"wavelength (m)\")\n",
    "plt.ylabel(\"T\")\n",
    "plt.title(\"Delta n = .1*10^-4\")\n",
    "plt.axis([2997,3005,0,1])"
   ]
  },
  {
   "cell_type": "code",
   "execution_count": 98,
   "metadata": {
    "collapsed": false
   },
   "outputs": [
    {
     "name": "stdout",
     "output_type": "stream",
     "text": [
      "[[ -1.13117041e-01 +9.93917156e-01j   3.76931160e-05 +3.31195320e-04j]\n",
      " [  3.76931160e-05 -3.31195320e-04j  -1.13117041e-01 -9.93917156e-01j]]\n",
      "[[ -1.13117041e-01 +9.93917156e-01j   3.76931160e-05 +3.31195320e-04j]\n",
      " [  3.76931160e-05 -3.31195320e-04j  -1.13117041e-01 -9.93917156e-01j]]\n",
      "[[ 0.89667123 -4.42699030e-01j  0.00130268 -1.46776997e-04j]\n",
      " [ 0.00130268 +1.46776997e-04j  0.89667123 +4.42699030e-01j]]\n"
     ]
    },
    {
     "data": {
      "text/plain": [
       "<matplotlib.text.Text at 0x58a0c70630>"
      ]
     },
     "execution_count": 98,
     "metadata": {},
     "output_type": "execute_result"
    },
    {
     "data": {
      "image/png": "[encoded data removed]",
      "text/plain": [
       "<matplotlib.figure.Figure at 0x58a36ddb00>"
      ]
     },
     "metadata": {},
     "output_type": "display_data"
    }
   ],
   "source": [
    "M12 = Matrix12(r_12_array[3],t_12_array[3])\n",
    "M2 = Matrix2_free(phi_z_2_array[3],size_of_array)\n",
    "M21 = Matrix12(r_21_array[3],t_21_array[3])\n",
    "M1 = Matrix2_free(phi_z_1,size_of_array)\n",
    "#print(M12)\n",
    "#print(M2[0])\n",
    "A = np.dot(M12,M2[0])\n",
    "#print(np.dot(M12,M2[0]))\n",
    "print(A)\n",
    "\n",
    "j = size_of_array\n",
    "i = 0\n",
    "M122 = np.zeros(j, dtype=object)\n",
    "while i < j:\n",
    "    M122[i] = np.dot(M12,M2[i])\n",
    "    i+=1\n",
    "#print(M122)\n",
    "print(M122[0])\n",
    "\n",
    "j = size_of_array\n",
    "i = 0\n",
    "M12221 = np.zeros(j, dtype=object)\n",
    "while i < j:\n",
    "    M12221[i] = np.dot(M122[i],M21)\n",
    "    i+=1\n",
    "    \n",
    "j = size_of_array\n",
    "i = 0\n",
    "M122211 = np.zeros(j, dtype=object)\n",
    "while i < j:\n",
    "    M122211[i] = np.dot(M12221[i],M1[i])\n",
    "    i+=1\n",
    "    \n",
    "M_period = M122211\n",
    "M_temp = np.copy(M_period)\n",
    "i = 0\n",
    "j = number_of_periods-1\n",
    "while i < j:\n",
    "    k = 0\n",
    "    m = size_of_array\n",
    "    while k < m:\n",
    "        M_temp[k] = np.dot(M_temp[k],M_period[k])\n",
    "        k+=1\n",
    "    i+=1\n",
    "print(M_temp[0])\n",
    "\n",
    "j = size_of_array\n",
    "i = 0\n",
    "r_total4 = np.zeros(j, dtype=object)\n",
    "R_total4 = np.zeros(j, dtype=object)\n",
    "while i < j:\n",
    "    r_total4[i] = M_temp[i][1][0]/M_temp[i][0][0]\n",
    "    R_total4[i] = (np.absolute(r_total4[i]))**2\n",
    "    i+=1\n",
    "    \n",
    "plt.plot(wavelength, R_total4)\n",
    "plt.xlabel(\"wavelength (m)\")\n",
    "plt.ylabel(\"R\")\n",
    "plt.title(\"Delta n = 10*10^-4\")"
   ]
  },
  {
   "cell_type": "code",
   "execution_count": 105,
   "metadata": {
    "collapsed": false
   },
   "outputs": [
    {
     "data": {
      "text/plain": [
       "[2997, 3005, 0, 1]"
      ]
     },
     "execution_count": 105,
     "metadata": {},
     "output_type": "execute_result"
    },
    {
     "data": {
      "image/png": "[encoded data removed]",
      "text/plain": [
       "<matplotlib.figure.Figure at 0x58a38985f8>"
      ]
     },
     "metadata": {},
     "output_type": "display_data"
    }
   ],
   "source": [
    "plt.plot(wavelength*10**9, R_total4)\n",
    "plt.xlabel(\"wavelength (nm)\")\n",
    "plt.ylabel(\"R\")\n",
    "plt.title(\"Delta n = 10*10^-4\")\n",
    "plt.axis([2997,3005,0,1])"
   ]
  },
  {
   "cell_type": "code",
   "execution_count": 108,
   "metadata": {
    "collapsed": true
   },
   "outputs": [],
   "source": [
    "j = size_of_array\n",
    "i = 0\n",
    "t_total4 = np.zeros(j, dtype=object)\n",
    "T_total4 = np.zeros(j, dtype=object)\n",
    "while i < j:\n",
    "    t_total4[i] = 1/M_temp[i][0][0]\n",
    "    T_total4[i] = (np.absolute(t_total4[i]))**2\n",
    "    i+=1"
   ]
  },
  {
   "cell_type": "code",
   "execution_count": 109,
   "metadata": {
    "collapsed": false
   },
   "outputs": [
    {
     "data": {
      "text/plain": [
       "<matplotlib.text.Text at 0x58a2608e48>"
      ]
     },
     "execution_count": 109,
     "metadata": {},
     "output_type": "execute_result"
    },
    {
     "data": {
      "image/png": "[encoded data removed]",
      "text/plain": [
       "<matplotlib.figure.Figure at 0x58a2693860>"
      ]
     },
     "metadata": {},
     "output_type": "display_data"
    }
   ],
   "source": [
    "plt.plot(wavelength*10**9, T_total4)\n",
    "plt.xlabel(\"wavelength (nm)\")\n",
    "plt.ylabel(\"T\")\n",
    "plt.title(\"Delta n = 10*10^-4\")"
   ]
  },
  {
   "cell_type": "code",
   "execution_count": 110,
   "metadata": {
    "collapsed": false
   },
   "outputs": [
    {
     "data": {
      "text/plain": [
       "[2997, 3005, 0, 1]"
      ]
     },
     "execution_count": 110,
     "metadata": {},
     "output_type": "execute_result"
    },
    {
     "data": {
      "image/png": "[encoded data removed]",
      "text/plain": [
       "<matplotlib.figure.Figure at 0x58a0c42278>"
      ]
     },
     "metadata": {},
     "output_type": "display_data"
    }
   ],
   "source": [
    "plt.plot(wavelength*10**9, T_total4)\n",
    "plt.xlabel(\"wavelength (m)\")\n",
    "plt.ylabel(\"T\")\n",
    "plt.title(\"Delta n = .1*10^-4\")\n",
    "plt.axis([2997,3005,0,1])"
   ]
  },
  {
   "cell_type": "code",
   "execution_count": 111,
   "metadata": {
    "collapsed": false
   },
   "outputs": [
    {
     "data": {
      "text/plain": [
       "<matplotlib.text.Text at 0x58a36e5240>"
      ]
     },
     "execution_count": 111,
     "metadata": {},
     "output_type": "execute_result"
    },
    {
     "data": {
      "image/png": "[encoded data removed]",
      "text/plain": [
       "<matplotlib.figure.Figure at 0x58a239f588>"
      ]
     },
     "metadata": {},
     "output_type": "display_data"
    }
   ],
   "source": [
    "plt.plot(wavelength*10**9, R_total1, color='r', label=\".1\")\n",
    "plt.plot(wavelength*10**9, R_total2, color='b', label=\"2\")\n",
    "plt.plot(wavelength*10**9, R_total3, color='g', label=\"5\")\n",
    "plt.plot(wavelength*10**9, R_total4, color='c', label=\"10\")\n",
    "plt.xlabel(\"wavelength (nm)\")\n",
    "plt.ylabel(\"R\")\n",
    "plt.title(\"All delta n\")\n",
    "plt.legend(loc=1)\n",
    "plt.title(\"0, 40, and 75 degrees\")"
   ]
  },
  {
   "cell_type": "code",
   "execution_count": 115,
   "metadata": {
    "collapsed": false
   },
   "outputs": [
    {
     "data": {
      "text/plain": [
       "[2997, 3005, 0, 1]"
      ]
     },
     "execution_count": 115,
     "metadata": {},
     "output_type": "execute_result"
    },
    {
     "data": {
      "image/png": "[encoded data removed]",
      "text/plain": [
       "<matplotlib.figure.Figure at 0x58a38e7198>"
      ]
     },
     "metadata": {},
     "output_type": "display_data"
    }
   ],
   "source": [
    "plt.plot(wavelength*10**9, R_total1*10**3, color='r', label=\".1*10^3\")\n",
    "plt.plot(wavelength*10**9, R_total2, color='b', label=\"2\")\n",
    "plt.plot(wavelength*10**9, R_total3, color='g', label=\"5\")\n",
    "plt.plot(wavelength*10**9, R_total4, color='c', label=\"10\")\n",
    "plt.xlabel(\"wavelength (nm)\")\n",
    "plt.ylabel(\"R\")\n",
    "plt.title(\"All delta n\")\n",
    "plt.legend(loc=1)\n",
    "plt.title(\"0, 40, and 75 degrees\")\n",
    "plt.axis([2997,3005,0,1])"
   ]
  },
  {
   "cell_type": "code",
   "execution_count": 116,
   "metadata": {
    "collapsed": false
   },
   "outputs": [
    {
     "data": {
      "text/plain": [
       "<matplotlib.text.Text at 0x58a39f3e10>"
      ]
     },
     "execution_count": 116,
     "metadata": {},
     "output_type": "execute_result"
    },
    {
     "data": {
      "image/png": "[encoded data removed]",
      "text/plain": [
       "<matplotlib.figure.Figure at 0x58a391cdd8>"
      ]
     },
     "metadata": {},
     "output_type": "display_data"
    }
   ],
   "source": [
    "plt.plot(wavelength*10**9, T_total1, color='r', label=\".1\")\n",
    "plt.plot(wavelength*10**9, T_total2, color='b', label=\"2\")\n",
    "plt.plot(wavelength*10**9, T_total3, color='g', label=\"5\")\n",
    "plt.plot(wavelength*10**9, T_total4, color='c', label=\"10\")\n",
    "plt.xlabel(\"wavelength (nm)\")\n",
    "plt.ylabel(\"T\")\n",
    "plt.title(\"All delta n\")\n",
    "plt.legend(loc=1)\n",
    "plt.title(\"0, 40, and 75 degrees\")"
   ]
  },
  {
   "cell_type": "markdown",
   "metadata": {},
   "source": [
    "# Need to fix transmission spectrum (probably something to do with nt/ni)"
   ]
  },
  {
   "cell_type": "markdown",
   "metadata": {
    "collapsed": true
   },
   "source": [
    "# Problem 2"
   ]
  },
  {
   "cell_type": "code",
   "execution_count": 117,
   "metadata": {
    "collapsed": true
   },
   "outputs": [],
   "source": [
    "n1 = 1.5\n",
    "delta_n1 = .1*10**(-4)\n",
    "delta_n2 = 2*10**(-4)\n",
    "delta_n3 = 5*10**(-4)\n",
    "delta_n4 = 10*10**(-4)"
   ]
  },
  {
   "cell_type": "code",
   "execution_count": 118,
   "metadata": {
    "collapsed": true
   },
   "outputs": [],
   "source": [
    "def find_n2(n1,delta_n):\n",
    "    n2 = n1+delta_n\n",
    "    return n2"
   ]
  },
  {
   "cell_type": "code",
   "execution_count": 119,
   "metadata": {
    "collapsed": true
   },
   "outputs": [],
   "source": [
    "n2_1 = find_n2(n1,delta_n1)\n",
    "n2_2 = find_n2(n1,delta_n2)\n",
    "n2_3 = find_n2(n1,delta_n3)\n",
    "n2_4 = find_n2(n1,delta_n4)\n",
    "theta = 0"
   ]
  },
  {
   "cell_type": "code",
   "execution_count": 120,
   "metadata": {
    "collapsed": true
   },
   "outputs": [],
   "source": [
    "def r_Normal_2(n1,n2,delta_n0):\n",
    "    r_normal = (n1-n2)/(n1+n2)\n",
    "    return r_normal"
   ]
  },
  {
   "cell_type": "code",
   "execution_count": 121,
   "metadata": {
    "collapsed": true
   },
   "outputs": [],
   "source": [
    "def Matrix12(r,t):\n",
    "    M12 = (1/t)*np.array([[1,r],[r,1]])\n",
    "    return M12\n",
    "def Matrix2_free(phi_z,size_of_array):\n",
    "    j = size_of_array\n",
    "    i = 0\n",
    "    M2_free = np.zeros(j, dtype=object)\n",
    "    #print(\"M2_free\",M2_free)\n",
    "    while i < j:\n",
    "        M2_free[i] = np.array([[np.exp(phi_z[i]*1j),0],[0,np.exp(phi_z[i]*(-1j))]])\n",
    "        i+=1\n",
    "    #M2_free = np.array([[np.exp(phi_z*1j),0],[0,np.exp(phi_z*(-1j))]])\n",
    "    return M2_free\n",
    "def phi_z(n,d,theta,lambda_wavelength):\n",
    "    phi = 2*np.pi*n*d*np.cos(theta)/lambda_wavelength\n",
    "    return phi"
   ]
  },
  {
   "cell_type": "code",
   "execution_count": 122,
   "metadata": {
    "collapsed": true
   },
   "outputs": [],
   "source": [
    "r_12_1 = r_TE(n1,n2_1,theta,theta)\n",
    "r_21_1 = r_TE(n2_1,n1,theta,theta)\n",
    "\n",
    "r_12_2 = r_TE(n1,n2_2,theta,theta)\n",
    "r_21_2 = r_TE(n2_2,n1,theta,theta)\n",
    "\n",
    "r_12_3 = r_TE(n1,n2_3,theta,theta)\n",
    "r_21_3 = r_TE(n2_3,n1,theta,theta)\n",
    "\n",
    "r_12_4 = r_TE(n1,n2_4,theta,theta)\n",
    "r_21_4 = r_TE(n2_4,n1,theta,theta)"
   ]
  },
  {
   "cell_type": "markdown",
   "metadata": {},
   "source": [
    "## New stuff for problem 2 below"
   ]
  },
  {
   "cell_type": "code",
   "execution_count": 141,
   "metadata": {
    "collapsed": true
   },
   "outputs": [],
   "source": [
    "def delta_n(delta_n0,z,L,sigma_L):\n",
    "    Delta_n = delta_n0*np.exp(-((z-(L/2))**2)/(sigma_L**2))\n",
    "    return Delta_n"
   ]
  },
  {
   "cell_type": "code",
   "execution_count": 181,
   "metadata": {
    "collapsed": true
   },
   "outputs": [],
   "source": [
    "period_length = 1*10**(-6)\n",
    "d = period_length/2\n",
    "size_of_array = 10000\n",
    "wavelength = np.linspace(2800*10**-9,3200*10**-9,size_of_array)"
   ]
  },
  {
   "cell_type": "code",
   "execution_count": 182,
   "metadata": {
    "collapsed": false
   },
   "outputs": [
    {
     "data": {
      "text/plain": [
       "<matplotlib.text.Text at 0x58a50467b8>"
      ]
     },
     "execution_count": 182,
     "metadata": {},
     "output_type": "execute_result"
    },
    {
     "data": {
      "image/png": "[encoded data removed]",
      "text/plain": [
       "<matplotlib.figure.Figure at 0x58a4f903c8>"
      ]
     },
     "metadata": {},
     "output_type": "display_data"
    }
   ],
   "source": [
    "n1 = 1.5\n",
    "L = 0.01\n",
    "sigma_L = 0.0025\n",
    "delta_n0 = 10*10**(-4)\n",
    "n2 = n1+delta_n0\n",
    "z = 0\n",
    "delta_z = 1*10**(-6)\n",
    "\n",
    "r_12_4 = r_TE(n1,n2,theta,theta)\n",
    "r_21_4 = r_TE(n2,n1,theta,theta)\n",
    "\n",
    "r_12_array = np.array([[r_12_1],[r_12_2],[r_12_3],[r_12_4]])\n",
    "r_21_array = np.array([[r_21_1],[r_21_2],[r_21_3],[r_21_4]])\n",
    "\n",
    "t_12_4 = t_TE(n1,n2,theta,theta)\n",
    "t_21_4 = t_TE(n2,n1,theta,theta)\n",
    "\n",
    "t_12_array = np.array([[t_12_1],[t_12_2],[t_12_3],[t_12_4]])\n",
    "t_21_array = np.array([[t_21_1],[t_21_2],[t_21_3],[t_21_4]])\n",
    "\n",
    "p = 0\n",
    "while z < L:\n",
    "    #Create arrays\n",
    "    r_12_4 = r_TE(n1,n2,theta,theta)\n",
    "    r_21_4 = r_TE(n2,n1,theta,theta)\n",
    "    r_12_array = np.array([[r_12_1],[r_12_2],[r_12_3],[r_12_4]])\n",
    "    r_21_array = np.array([[r_21_1],[r_21_2],[r_21_3],[r_21_4]])\n",
    "    \n",
    "    t_12_4 = t_TE(n1,n2,theta,theta)\n",
    "    t_21_4 = t_TE(n2,n1,theta,theta)\n",
    "    t_12_array = np.array([[t_12_1],[t_12_2],[t_12_3],[t_12_4]])\n",
    "    t_21_array = np.array([[t_21_1],[t_21_2],[t_21_3],[t_21_4]])\n",
    "    \n",
    "    phi_z_2_4 = phi_z(n2,d,theta,wavelength)\n",
    "    phi_z_2_array[3] = phi_z_2_4\n",
    "    \n",
    "    #Create matrices\n",
    "    M12 = Matrix12(r_12_array[3],t_12_array[3])\n",
    "    M2 = Matrix2_free(phi_z_2_array[3],size_of_array)\n",
    "    M21 = Matrix12(r_21_array[3],t_21_array[3])\n",
    "    M1 = Matrix2_free(phi_z_1,size_of_array)\n",
    "    \n",
    "    #Multiply Matrices\n",
    "    j = size_of_array\n",
    "    i = 0\n",
    "    M122 = np.zeros(j, dtype=object)\n",
    "    while i < j:\n",
    "        M122[i] = np.dot(M12,M2[i])\n",
    "        i+=1\n",
    "\n",
    "    j = size_of_array\n",
    "    i = 0\n",
    "    M12221 = np.zeros(j, dtype=object)\n",
    "    while i < j:\n",
    "        M12221[i] = np.dot(M122[i],M21)\n",
    "        i+=1\n",
    "\n",
    "    j = size_of_array\n",
    "    i = 0\n",
    "    M122211 = np.zeros(j, dtype=object)\n",
    "    while i < j:\n",
    "        M122211[i] = np.dot(M12221[i],M1[i])\n",
    "        i+=1\n",
    "    #Add to z and change n and increment p\n",
    "    z += delta_z\n",
    "    Delta_n = delta_n(delta_n0,z,L,sigma_L)\n",
    "    n2 = n1 + Delta_n\n",
    "    M_temp = np.copy(M122211)\n",
    "    if p == 0:\n",
    "        M_total = np.copy(M_temp)\n",
    "    else:\n",
    "        k = 0\n",
    "        m = size_of_array\n",
    "        while k < m:\n",
    "            M_total[k] = np.dot(M_total[k], M_temp[k])\n",
    "            k+=1\n",
    "    p += 1\n",
    "    #repeat\n",
    "    \n",
    "\n",
    "j = size_of_array\n",
    "i = 0\n",
    "r_total4 = np.zeros(j, dtype=object)\n",
    "R_total4 = np.zeros(j, dtype=object)\n",
    "while i < j:\n",
    "    r_total4[i] = M_total[i][1][0]/M_total[i][0][0]\n",
    "    R_total4[i] = (np.absolute(r_total4[i]))**2\n",
    "    i+=1\n",
    "plt.plot(wavelength, R_total4)\n",
    "plt.xlabel(\"wavelength (m)\")\n",
    "plt.ylabel(\"R\")\n",
    "plt.title(\"Delta n = 10*10^-4\")"
   ]
  },
  {
   "cell_type": "code",
   "execution_count": 193,
   "metadata": {
    "collapsed": false
   },
   "outputs": [
    {
     "data": {
      "text/plain": [
       "[2997, 3005, 0, 1]"
      ]
     },
     "execution_count": 193,
     "metadata": {},
     "output_type": "execute_result"
    },
    {
     "data": {
      "image/png": "[encoded data removed]",
      "text/plain": [
       "<matplotlib.figure.Figure at 0x58a53f2be0>"
      ]
     },
     "metadata": {},
     "output_type": "display_data"
    }
   ],
   "source": [
    "plt.plot(wavelength*10**9, R_total4)\n",
    "plt.xlabel(\"wavelength (m)\")\n",
    "plt.ylabel(\"R\")\n",
    "plt.title(\"Delta n = 10*10^-4\")\n",
    "plt.axis([2997,3005,0,1])"
   ]
  },
  {
   "cell_type": "code",
   "execution_count": 192,
   "metadata": {
    "collapsed": false
   },
   "outputs": [
    {
     "data": {
      "text/plain": [
       "<matplotlib.text.Text at 0x58a5416e10>"
      ]
     },
     "execution_count": 192,
     "metadata": {},
     "output_type": "execute_result"
    },
    {
     "data": {
      "image/png": "[encoded data removed]",
      "text/plain": [
       "<matplotlib.figure.Figure at 0x58a539c3c8>"
      ]
     },
     "metadata": {},
     "output_type": "display_data"
    }
   ],
   "source": [
    "j = size_of_array\n",
    "i = 0\n",
    "t_total4 = np.zeros(j, dtype=object)\n",
    "T_total4 = np.zeros(j, dtype=object)\n",
    "while i < j:\n",
    "    t_total4[i] = 1/M_total[i][0][0]\n",
    "    T_total4[i] = (np.absolute(t_total4[i]))**2\n",
    "    i+=1\n",
    "plt.plot(wavelength*10**9, T_total4)\n",
    "plt.xlabel(\"wavelength (nm)\")\n",
    "plt.ylabel(\"T\")\n",
    "plt.title(\"Delta n = 10*10^-4\")"
   ]
  },
  {
   "cell_type": "code",
   "execution_count": 194,
   "metadata": {
    "collapsed": false
   },
   "outputs": [
    {
     "data": {
      "text/plain": [
       "[2997, 3005, 0, 1]"
      ]
     },
     "execution_count": 194,
     "metadata": {},
     "output_type": "execute_result"
    },
    {
     "data": {
      "image/png": "[encoded data removed]",
      "text/plain": [
       "<matplotlib.figure.Figure at 0x58a6496c88>"
      ]
     },
     "metadata": {},
     "output_type": "display_data"
    }
   ],
   "source": [
    "plt.plot(wavelength*10**9, T_total4)\n",
    "plt.xlabel(\"wavelength (nm)\")\n",
    "plt.ylabel(\"T\")\n",
    "plt.title(\"Delta n = 10*10^-4\")\n",
    "plt.axis([2997,3005,0,1])"
   ]
  },
  {
   "cell_type": "markdown",
   "metadata": {},
   "source": [
    "# Problem 3"
   ]
  },
  {
   "cell_type": "code",
   "execution_count": 251,
   "metadata": {
    "collapsed": false
   },
   "outputs": [
    {
     "name": "stdout",
     "output_type": "stream",
     "text": [
      "1.05e-06\n",
      "0.0099999\n"
     ]
    }
   ],
   "source": [
    "period_length = 1*10**(-6)\n",
    "period_length1 = 1*10**(-6)\n",
    "i = 0\n",
    "total_length = 0\n",
    "size_of_i_array = 9756\n",
    "delta_lambda = np.linspace(0,0.05*10**(-6),size_of_i_array)\n",
    "#while total_length < .01:\n",
    "while i < size_of_i_array:\n",
    "        #print(\"delta_lambda[i]\",delta_lambda[i])\n",
    "        period_length = period_length1 + delta_lambda[i]\n",
    "        i +=1 \n",
    "        total_length += period_length\n",
    "print(period_length)\n",
    "print(total_length)"
   ]
  },
  {
   "cell_type": "markdown",
   "metadata": {},
   "source": [
    "## Therefore need 9756 periods to get 1 cm"
   ]
  },
  {
   "cell_type": "code",
   "execution_count": 266,
   "metadata": {
    "collapsed": false
   },
   "outputs": [
    {
     "data": {
      "text/plain": [
       "<matplotlib.text.Text at 0x58a5229d68>"
      ]
     },
     "execution_count": 266,
     "metadata": {},
     "output_type": "execute_result"
    },
    {
     "data": {
      "image/png": "[encoded data removed]",
      "text/plain": [
       "<matplotlib.figure.Figure at 0x58a519c438>"
      ]
     },
     "metadata": {},
     "output_type": "display_data"
    }
   ],
   "source": [
    "period_length = 1*10**(-6)\n",
    "period_length1 = 1*10**(-6)\n",
    "d = period_length/2\n",
    "size_of_array = 10000\n",
    "wavelength = np.linspace(2800*10**-9,3200*10**-9,size_of_array)\n",
    "\n",
    "n1 = 1.5\n",
    "L = 0.01\n",
    "sigma_L = 0.0025\n",
    "delta_n0 = 10*10**(-4)\n",
    "n2 = n1+delta_n0\n",
    "z = 0\n",
    "delta_z = 1*10**(-6)\n",
    "\n",
    "r_12_4 = r_TE(n1,n2,theta,theta)\n",
    "r_21_4 = r_TE(n2,n1,theta,theta)\n",
    "\n",
    "r_12_array = np.array([[r_12_1],[r_12_2],[r_12_3],[r_12_4]])\n",
    "r_21_array = np.array([[r_21_1],[r_21_2],[r_21_3],[r_21_4]])\n",
    "\n",
    "t_12_4 = t_TE(n1,n2,theta,theta)\n",
    "t_21_4 = t_TE(n2,n1,theta,theta)\n",
    "\n",
    "t_12_array = np.array([[t_12_1],[t_12_2],[t_12_3],[t_12_4]])\n",
    "t_21_array = np.array([[t_21_1],[t_21_2],[t_21_3],[t_21_4]])\n",
    "\n",
    "p = 0\n",
    "#while z < L:\n",
    "n = 0\n",
    "while n < size_of_i_array:\n",
    "    #Create arrays\n",
    "    period_length = period_length1 + delta_lambda[n]\n",
    "    d = period_length/2\n",
    "    \n",
    "    r_12_4 = r_TE(n1,n2,theta,theta)\n",
    "    r_21_4 = r_TE(n2,n1,theta,theta)\n",
    "    r_12_array = np.array([[r_12_1],[r_12_2],[r_12_3],[r_12_4]])\n",
    "    r_21_array = np.array([[r_21_1],[r_21_2],[r_21_3],[r_21_4]])\n",
    "    \n",
    "    t_12_4 = t_TE(n1,n2,theta,theta)\n",
    "    t_21_4 = t_TE(n2,n1,theta,theta)\n",
    "    t_12_array = np.array([[t_12_1],[t_12_2],[t_12_3],[t_12_4]])\n",
    "    t_21_array = np.array([[t_21_1],[t_21_2],[t_21_3],[t_21_4]])\n",
    "    \n",
    "    phi_z_1 = phi_z(n1,d,theta,wavelength)\n",
    "    phi_z_2_4 = phi_z(n2,d,theta,wavelength)\n",
    "    phi_z_2_array[3] = phi_z_2_4\n",
    "    \n",
    "    #Create matrices\n",
    "    M12 = Matrix12(r_12_array[3],t_12_array[3])\n",
    "    M2 = Matrix2_free(phi_z_2_array[3],size_of_array)\n",
    "    M21 = Matrix12(r_21_array[3],t_21_array[3])\n",
    "    M1 = Matrix2_free(phi_z_1,size_of_array)\n",
    "    \n",
    "    #Multiply Matrices\n",
    "    j = size_of_array\n",
    "    i = 0\n",
    "    M122 = np.zeros(j, dtype=object)\n",
    "    while i < j:\n",
    "        M122[i] = np.dot(M12,M2[i])\n",
    "        i+=1\n",
    "\n",
    "    j = size_of_array\n",
    "    i = 0\n",
    "    M12221 = np.zeros(j, dtype=object)\n",
    "    while i < j:\n",
    "        M12221[i] = np.dot(M122[i],M21)\n",
    "        i+=1\n",
    "\n",
    "    j = size_of_array\n",
    "    i = 0\n",
    "    M122211 = np.zeros(j, dtype=object)\n",
    "    while i < j:\n",
    "        M122211[i] = np.dot(M12221[i],M1[i])\n",
    "        i+=1\n",
    "    #Add to z and change n2 and increment p\n",
    "    z += period_length\n",
    "    Delta_n = delta_n(delta_n0,z,L,sigma_L)\n",
    "    n2 = n1 + Delta_n\n",
    "    M_temp = np.copy(M122211)\n",
    "    if p == 0:\n",
    "        M_total = np.copy(M_temp)\n",
    "    else:\n",
    "        k = 0\n",
    "        m = size_of_array\n",
    "        while k < m:\n",
    "            M_total[k] = np.dot(M_total[k], M_temp[k])\n",
    "            k+=1\n",
    "    p += 1\n",
    "    n += 1\n",
    "    #repeat\n",
    "    \n",
    "j = size_of_array\n",
    "i = 0\n",
    "r_total4 = np.zeros(j, dtype=object)\n",
    "R_total4 = np.zeros(j, dtype=object)\n",
    "while i < j:\n",
    "    r_total4[i] = M_total[i][1][0]/M_total[i][0][0]\n",
    "    R_total4[i] = (np.absolute(r_total4[i]))**2\n",
    "    i+=1\n",
    "plt.plot(wavelength, R_total4)\n",
    "plt.xlabel(\"wavelength (m)\")\n",
    "plt.ylabel(\"R\")\n",
    "plt.title(\"Delta n = 10*10^-4\")"
   ]
  },
  {
   "cell_type": "code",
   "execution_count": 267,
   "metadata": {
    "collapsed": false
   },
   "outputs": [
    {
     "name": "stdout",
     "output_type": "stream",
     "text": [
      "1.05e-06\n",
      "5.25e-07\n"
     ]
    }
   ],
   "source": [
    "print(period_length)\n",
    "print(d)"
   ]
  },
  {
   "cell_type": "code",
   "execution_count": 271,
   "metadata": {
    "collapsed": false
   },
   "outputs": [
    {
     "data": {
      "text/plain": [
       "[3000, 3200, 0, 0.1]"
      ]
     },
     "execution_count": 271,
     "metadata": {},
     "output_type": "execute_result"
    },
    {
     "data": {
      "image/png": "[encoded data removed]",
      "text/plain": [
       "<matplotlib.figure.Figure at 0x58a6c22908>"
      ]
     },
     "metadata": {},
     "output_type": "display_data"
    }
   ],
   "source": [
    "plt.plot(wavelength*10**9, R_total4)\n",
    "plt.xlabel(\"wavelength (m)\")\n",
    "plt.ylabel(\"R\")\n",
    "plt.title(\"Delta n = 10*10^-4\")\n",
    "plt.axis([3000,3200,0,0.1])"
   ]
  },
  {
   "cell_type": "code",
   "execution_count": 272,
   "metadata": {
    "collapsed": false
   },
   "outputs": [
    {
     "data": {
      "text/plain": [
       "<matplotlib.text.Text at 0x58a6cee5c0>"
      ]
     },
     "execution_count": 272,
     "metadata": {},
     "output_type": "execute_result"
    },
    {
     "data": {
      "image/png": "[encoded data removed]",
      "text/plain": [
       "<matplotlib.figure.Figure at 0x58a6c74d30>"
      ]
     },
     "metadata": {},
     "output_type": "display_data"
    }
   ],
   "source": [
    "j = size_of_array\n",
    "i = 0\n",
    "t_total4 = np.zeros(j, dtype=object)\n",
    "T_total4 = np.zeros(j, dtype=object)\n",
    "while i < j:\n",
    "    t_total4[i] = 1/M_total[i][0][0]\n",
    "    T_total4[i] = (np.absolute(t_total4[i]))**2\n",
    "    i+=1\n",
    "plt.plot(wavelength*10**9, T_total4)\n",
    "plt.xlabel(\"wavelength (nm)\")\n",
    "plt.ylabel(\"T\")\n",
    "plt.title(\"Delta n = 10*10^-4\")"
   ]
  },
  {
   "cell_type": "code",
   "execution_count": 276,
   "metadata": {
    "collapsed": false
   },
   "outputs": [
    {
     "data": {
      "text/plain": [
       "[3000, 3200, 0.9, 1]"
      ]
     },
     "execution_count": 276,
     "metadata": {},
     "output_type": "execute_result"
    },
    {
     "data": {
      "image/png": "[encoded data removed]",
      "text/plain": [
       "<matplotlib.figure.Figure at 0x58a6c4a710>"
      ]
     },
     "metadata": {},
     "output_type": "display_data"
    }
   ],
   "source": [
    "plt.plot(wavelength*10**9, T_total4)\n",
    "plt.xlabel(\"wavelength (nm)\")\n",
    "plt.ylabel(\"T\")\n",
    "plt.title(\"Delta n = 10*10^-4\")\n",
    "plt.axis([3000,3200,.9,1])"
   ]
  },
  {
   "cell_type": "markdown",
   "metadata": {},
   "source": [
    "# Problem 4"
   ]
  },
  {
   "cell_type": "code",
   "execution_count": 285,
   "metadata": {
    "collapsed": false
   },
   "outputs": [
    {
     "name": "stdout",
     "output_type": "stream",
     "text": [
      "[[ -1.13117041e-01 +9.93917156e-01j   3.76931160e-05 +3.31195320e-04j]\n",
      " [  3.76931160e-05 -3.31195320e-04j  -1.13117041e-01 -9.93917156e-01j]]\n",
      "[[ -1.13117041e-01 +9.93917156e-01j   3.76931160e-05 +3.31195320e-04j]\n",
      " [  3.76931160e-05 -3.31195320e-04j  -1.13117041e-01 -9.93917156e-01j]]\n"
     ]
    },
    {
     "data": {
      "text/plain": [
       "<matplotlib.text.Text at 0x58a8288390>"
      ]
     },
     "execution_count": 285,
     "metadata": {},
     "output_type": "execute_result"
    },
    {
     "data": {
      "image/png": "[encoded data removed]",
      "text/plain": [
       "<matplotlib.figure.Figure at 0x58a5397a90>"
      ]
     },
     "metadata": {},
     "output_type": "display_data"
    }
   ],
   "source": [
    "# resetting all variables\n",
    "n1 = 1.5\n",
    "delta_n4 = 10*10**(-4)\n",
    "n2_4 = find_n2(n1,delta_n4)\n",
    "r_12_4 = r_TE(n1,n2_4,theta,theta)\n",
    "r_21_4 = r_TE(n2_4,n1,theta,theta)\n",
    "r_12_array = np.array([[r_12_1],[r_12_2],[r_12_3],[r_12_4]])\n",
    "r_21_array = np.array([[r_21_1],[r_21_2],[r_21_3],[r_21_4]])\n",
    "t_12_4 = t_TE(n1,n2_4,theta,theta)\n",
    "t_21_4 = t_TE(n2_4,n1,theta,theta)\n",
    "t_12_array = np.array([[t_12_1],[t_12_2],[t_12_3],[t_12_4]])\n",
    "t_21_array = np.array([[t_21_1],[t_21_2],[t_21_3],[t_21_4]])\n",
    "period_length = 1*10**(-6)\n",
    "d = period_length/2\n",
    "size_of_array = 10000\n",
    "wavelength = np.linspace(2800*10**-9,3200*10**-9,size_of_array)\n",
    "phi_z_1 = phi_z(n1,d,theta,wavelength)\n",
    "phi_z_2_4 = phi_z(n2_4,d,theta,wavelength)\n",
    "phi_z_2_array[3] = phi_z_2_4\n",
    "\n",
    "# start of code for new matrix\n",
    "M12 = Matrix12(r_12_array[3],t_12_array[3])\n",
    "M2 = Matrix2_free(phi_z_2_array[3],size_of_array)\n",
    "M21 = Matrix12(r_21_array[3],t_21_array[3])\n",
    "M1 = Matrix2_free(phi_z_1,size_of_array)\n",
    "#print(M12)\n",
    "#print(M2[0])\n",
    "A = np.dot(M12,M2[0])\n",
    "#print(np.dot(M12,M2[0]))\n",
    "print(A)\n",
    "\n",
    "j = size_of_array\n",
    "i = 0\n",
    "M122 = np.zeros(j, dtype=object)\n",
    "while i < j:\n",
    "    M122[i] = np.dot(M12,M2[i])\n",
    "    i+=1\n",
    "#print(M122)\n",
    "print(M122[0])\n",
    "\n",
    "j = size_of_array\n",
    "i = 0\n",
    "M12221 = np.zeros(j, dtype=object)\n",
    "while i < j:\n",
    "    M12221[i] = np.dot(M122[i],M21)\n",
    "    i+=1\n",
    "    \n",
    "j = size_of_array\n",
    "i = 0\n",
    "M122211 = np.zeros(j, dtype=object)\n",
    "while i < j:\n",
    "    M122211[i] = np.dot(M12221[i],M1[i])\n",
    "    i+=1\n",
    "    \n",
    "M_period = M122211\n",
    "M_temp = np.copy(M_period)\n",
    "i = 0\n",
    "j = (number_of_periods)/2-1\n",
    "while i < j:\n",
    "    k = 0\n",
    "    m = size_of_array\n",
    "    while k < m:\n",
    "        M_temp[k] = np.dot(M_temp[k],M_period[k])\n",
    "        k+=1\n",
    "    i+=1\n",
    "\n",
    "\n",
    "M_temp2 = np.copy(M_temp)\n",
    "k = 0\n",
    "m = size_of_array\n",
    "j = 2\n",
    "i = 0\n",
    "#makes the middle M1 three times normal size\n",
    "while i < j:\n",
    "    while k < m:\n",
    "        M_temp2[k] = np.dot(M_temp2[k],M1[k])\n",
    "        k+=1\n",
    "    i += 1\n",
    "\n",
    "k = 0\n",
    "m = size_of_array\n",
    "while k < m:\n",
    "    M_temp2[k] = np.dot(M_temp2[k],M_temp[k])\n",
    "    k+=1\n",
    "\n",
    "j = size_of_array\n",
    "i = 0\n",
    "r_total4 = np.zeros(j, dtype=object)\n",
    "R_total4 = np.zeros(j, dtype=object)\n",
    "while i < j:\n",
    "    r_total4[i] = M_temp2[i][1][0]/M_temp2[i][0][0]\n",
    "    R_total4[i] = (np.absolute(r_total4[i]))**2\n",
    "    i+=1\n",
    "    \n",
    "plt.plot(wavelength, R_total4)\n",
    "plt.xlabel(\"wavelength (m)\")\n",
    "plt.ylabel(\"R\")\n",
    "plt.title(\"Delta n = 10*10^-4\")"
   ]
  },
  {
   "cell_type": "code",
   "execution_count": 286,
   "metadata": {
    "collapsed": false
   },
   "outputs": [
    {
     "data": {
      "text/plain": [
       "[2997, 3005, 0, 1]"
      ]
     },
     "execution_count": 286,
     "metadata": {},
     "output_type": "execute_result"
    },
    {
     "data": {
      "image/png": "[encoded data removed]",
      "text/plain": [
       "<matplotlib.figure.Figure at 0x58a64ad5f8>"
      ]
     },
     "metadata": {},
     "output_type": "display_data"
    }
   ],
   "source": [
    "plt.plot(wavelength*10**9, R_total4)\n",
    "plt.xlabel(\"wavelength (m)\")\n",
    "plt.ylabel(\"R\")\n",
    "plt.title(\"Delta n = 10*10^-4\")\n",
    "plt.axis([2997,3005,0,1])"
   ]
  },
  {
   "cell_type": "code",
   "execution_count": 287,
   "metadata": {
    "collapsed": true
   },
   "outputs": [],
   "source": [
    "j = size_of_array\n",
    "i = 0\n",
    "t_total4 = np.zeros(j, dtype=object)\n",
    "T_total4 = np.zeros(j, dtype=object)\n",
    "while i < j:\n",
    "    t_total4[i] = 1/M_temp2[i][0][0]\n",
    "    T_total4[i] = (np.absolute(t_total4[i]))**2\n",
    "    i+=1"
   ]
  },
  {
   "cell_type": "code",
   "execution_count": 288,
   "metadata": {
    "collapsed": false
   },
   "outputs": [
    {
     "data": {
      "text/plain": [
       "<matplotlib.text.Text at 0x58a83d9208>"
      ]
     },
     "execution_count": 288,
     "metadata": {},
     "output_type": "execute_result"
    },
    {
     "data": {
      "image/png": "[encoded data removed]",
      "text/plain": [
       "<matplotlib.figure.Figure at 0x58a3c4beb8>"
      ]
     },
     "metadata": {},
     "output_type": "display_data"
    }
   ],
   "source": [
    "plt.plot(wavelength*10**9, T_total4)\n",
    "plt.xlabel(\"wavelength (nm)\")\n",
    "plt.ylabel(\"T\")\n",
    "plt.title(\"Delta n = 10*10^-4\")"
   ]
  },
  {
   "cell_type": "code",
   "execution_count": 294,
   "metadata": {
    "collapsed": false
   },
   "outputs": [
    {
     "data": {
      "text/plain": [
       "[2997, 3005, 0, 1]"
      ]
     },
     "execution_count": 294,
     "metadata": {},
     "output_type": "execute_result"
    },
    {
     "data": {
      "image/png": "[encoded data removed]",
      "text/plain": [
       "<matplotlib.figure.Figure at 0x58a84ede80>"
      ]
     },
     "metadata": {},
     "output_type": "display_data"
    }
   ],
   "source": [
    "plt.plot(wavelength*10**9, T_total4)\n",
    "plt.xlabel(\"wavelength (m)\")\n",
    "plt.ylabel(\"T\")\n",
    "plt.title(\"Delta n = .1*10^-4\")\n",
    "plt.axis([2997,3005,0,1])"
   ]
  },
  {
   "cell_type": "code",
   "execution_count": null,
   "metadata": {
    "collapsed": true
   },
   "outputs": [],
   "source": []
  }
 ],
 "metadata": {
  "anaconda-cloud": {},
  "kernelspec": {
   "display_name": "Python [Root]",
   "language": "python",
   "name": "Python [Root]"
  },
  "language_info": {
   "codemirror_mode": {
    "name": "ipython",
    "version": 3
   },
   "file_extension": ".py",
   "mimetype": "text/x-python",
   "name": "python",
   "nbconvert_exporter": "python",
   "pygments_lexer": "ipython3",
   "version": "3.5.2"
  }
 },
 "nbformat": 4,
 "nbformat_minor": 0
}
